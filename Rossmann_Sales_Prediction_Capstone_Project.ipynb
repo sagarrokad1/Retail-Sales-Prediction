{
  "nbformat": 4,
  "nbformat_minor": 0,
  "metadata": {
    "colab": {
      "name": "Sagar Rossmann Sales Prediction - Capstone Project.ipynb",
      "provenance": [],
      "collapsed_sections": [],
      "include_colab_link": true
    },
    "kernelspec": {
      "display_name": "Python 3",
      "language": "python",
      "name": "python3"
    },
    "language_info": {
      "codemirror_mode": {
        "name": "ipython",
        "version": 3
      },
      "file_extension": ".py",
      "mimetype": "text/x-python",
      "name": "python",
      "nbconvert_exporter": "python",
      "pygments_lexer": "ipython3",
      "version": "3.6.6"
    }
  },
  "cells": [
    {
      "cell_type": "markdown",
      "metadata": {
        "id": "view-in-github",
        "colab_type": "text"
      },
      "source": [
        "<a href=\"https://colab.research.google.com/github/sagarrokad1/Rossman-Sales-Prediction/blob/main/Rossmann_Sales_Prediction_Capstone_Project.ipynb\" target=\"_parent\"><img src=\"https://colab.research.google.com/assets/colab-badge.svg\" alt=\"Open In Colab\"/></a>"
      ]
    },
    {
      "cell_type": "markdown",
      "metadata": {
        "id": "tOGC-qoyhJeX"
      },
      "source": [
        "# <b><u> Project Title : Sales Prediction : Predicting sales of a major store chain Rossmann</u></b>"
      ]
    },
    {
      "cell_type": "markdown",
      "metadata": {
        "id": "Y06xIdG26kRF"
      },
      "source": [
        "## <b> Problem Description </b>\n",
        "\n",
        "### Rossmann operates over 3,000 drug stores in 7 European countries. Currently, Rossmann store managers are tasked with predicting their daily sales for up to six weeks in advance. Store sales are influenced by many factors, including promotions, competition, school and state holidays, seasonality, and locality. With thousands of individual managers predicting sales based on their unique circumstances, the accuracy of results can be quite varied.\n",
        "\n",
        "### You are provided with historical sales data for 1,115 Rossmann stores. The task is to forecast the \"Sales\" column for the test set. Note that some stores in the dataset were temporarily closed for refurbishment."
      ]
    },
    {
      "cell_type": "markdown",
      "metadata": {
        "id": "WWeU1f9bwqQq"
      },
      "source": [
        "## <b> Data Description </b>\n",
        "\n",
        "### <b>Rossmann Stores Data.csv </b> - historical data including Sales\n",
        "### <b>store.csv </b> - supplemental information about the stores\n",
        "\n",
        "\n",
        "### <b><u>Data fields</u></b>\n",
        "### Most of the fields are self-explanatory. The following are descriptions for those that aren't.\n",
        "\n",
        "* #### Id - an Id that represents a (Store, Date) duple within the test set\n",
        "* #### Store - a unique Id for each store\n",
        "* #### Sales - the turnover for any given day (this is what you are predicting)\n",
        "* #### Customers - the number of customers on a given day\n",
        "* #### Open - an indicator for whether the store was open: 0 = closed, 1 = open\n",
        "* #### StateHoliday - indicates a state holiday. Normally all stores, with few exceptions, are closed on state holidays. Note that all schools are closed on public holidays and weekends. a = public holiday, b = Easter holiday, c = Christmas, 0 = None\n",
        "* #### SchoolHoliday - indicates if the (Store, Date) was affected by the closure of public schools\n",
        "* #### StoreType - differentiates between 4 different store models: a, b, c, d\n",
        "* #### Assortment - describes an assortment level: a = basic, b = extra, c = extended\n",
        "* #### CompetitionDistance - distance in meters to the nearest competitor store\n",
        "* #### CompetitionOpenSince[Month/Year] - gives the approximate year and month of the time the nearest competitor was opened\n",
        "* #### Promo - indicates whether a store is running a promo on that day\n",
        "* #### Promo2 - Promo2 is a continuing and consecutive promotion for some stores: 0 = store is not participating, 1 = store is participating\n",
        "* #### Promo2Since[Year/Week] - describes the year and calendar week when the store started participating in Promo2\n",
        "* #### PromoInterval - describes the consecutive intervals Promo2 is started, naming the months the promotion is started anew. E.g. \"Feb,May,Aug,Nov\" means each round starts in February, May, August, November of any given year for that store"
      ]
    },
    {
      "cell_type": "markdown",
      "metadata": {
        "id": "InAK97MKd5dv"
      },
      "source": [
        "## Loading Libraries & Data"
      ]
    },
    {
      "cell_type": "code",
      "metadata": {
        "id": "dByMsuzT8Tnw",
        "colab": {
          "base_uri": "https://localhost:8080/"
        },
        "outputId": "7e49956e-dc1f-4a63-a45f-5a39ec211624"
      },
      "source": [
        "#importing libraries\n",
        "\n",
        "import pandas as pd\n",
        "import numpy as np\n",
        "import matplotlib.pyplot as plt\n",
        "import seaborn as sns\n",
        "import datetime\n",
        "import missingno as msno\n",
        "import matplotlib\n",
        "import matplotlib.pylab as pylab\n",
        "\n",
        "%matplotlib inline\n",
        "matplotlib.style.use('ggplot')\n",
        "sns.set_style('white')\n",
        "pylab.rcParams['figure.figsize'] = 8,6\n",
        "\n",
        "import statsmodels.api as sm\n",
        "from sklearn.model_selection import train_test_split\n",
        "from sklearn.linear_model import LinearRegression\n",
        "from sklearn.metrics import mean_squared_error\n",
        "from math import sqrt\n",
        "from sklearn.linear_model import BayesianRidge\n",
        "from sklearn.linear_model import LassoLars\n",
        "from sklearn.tree import DecisionTreeRegressor\n",
        "from sklearn.ensemble import RandomForestRegressor\n",
        "from sklearn.neighbors import KNeighborsRegressor\n",
        "from sklearn.model_selection import RandomizedSearchCV\n",
        "from sklearn.preprocessing import MinMaxScaler"
      ],
      "execution_count": 1,
      "outputs": [
        {
          "output_type": "stream",
          "text": [
            "/usr/local/lib/python3.7/dist-packages/statsmodels/tools/_testing.py:19: FutureWarning: pandas.util.testing is deprecated. Use the functions in the public API at pandas.testing instead.\n",
            "  import pandas.util.testing as tm\n"
          ],
          "name": "stderr"
        }
      ]
    },
    {
      "cell_type": "code",
      "metadata": {
        "id": "Y9sCv5M7L3Xr",
        "colab": {
          "base_uri": "https://localhost:8080/"
        },
        "outputId": "deecce66-78ea-43d8-8db0-134d69f8bfce"
      },
      "source": [
        "#mounting drive\n",
        "from google.colab import drive\n",
        "drive.mount('/content/drive')"
      ],
      "execution_count": 2,
      "outputs": [
        {
          "output_type": "stream",
          "text": [
            "Mounted at /content/drive\n"
          ],
          "name": "stdout"
        }
      ]
    },
    {
      "cell_type": "code",
      "metadata": {
        "id": "A33KLzO0LN1t"
      },
      "source": [
        "#Loading Rossman Dataset\n",
        "rossman_df= pd.read_csv('/content/drive/MyDrive/AlmaBetter/Capstone Projects/Retail Sales Prediction - Sagar Rokad/Data/Rossmann Stores Data.csv', low_memory= False)"
      ],
      "execution_count": 3,
      "outputs": []
    },
    {
      "cell_type": "code",
      "metadata": {
        "id": "_DA4m29QQ7KC"
      },
      "source": [
        "#Loading Store Dataset\n",
        "store_df=pd.read_csv('/content/drive/MyDrive/AlmaBetter/Capstone Projects/Retail Sales Prediction - Sagar Rokad/Data/store.csv', low_memory= False)"
      ],
      "execution_count": 4,
      "outputs": []
    },
    {
      "cell_type": "markdown",
      "metadata": {
        "id": "ReyE89RMSUAV"
      },
      "source": [
        "## **Analysing the Rossman Dataset**"
      ]
    },
    {
      "cell_type": "code",
      "metadata": {
        "colab": {
          "base_uri": "https://localhost:8080/",
          "height": 202
        },
        "id": "0AZ_iHb6LUzn",
        "outputId": "956301be-4ed3-4d5c-d0e5-7044911c17f5"
      },
      "source": [
        "rossman_df.head()"
      ],
      "execution_count": 5,
      "outputs": [
        {
          "output_type": "execute_result",
          "data": {
            "text/html": [
              "<div>\n",
              "<style scoped>\n",
              "    .dataframe tbody tr th:only-of-type {\n",
              "        vertical-align: middle;\n",
              "    }\n",
              "\n",
              "    .dataframe tbody tr th {\n",
              "        vertical-align: top;\n",
              "    }\n",
              "\n",
              "    .dataframe thead th {\n",
              "        text-align: right;\n",
              "    }\n",
              "</style>\n",
              "<table border=\"1\" class=\"dataframe\">\n",
              "  <thead>\n",
              "    <tr style=\"text-align: right;\">\n",
              "      <th></th>\n",
              "      <th>Store</th>\n",
              "      <th>DayOfWeek</th>\n",
              "      <th>Date</th>\n",
              "      <th>Sales</th>\n",
              "      <th>Customers</th>\n",
              "      <th>Open</th>\n",
              "      <th>Promo</th>\n",
              "      <th>StateHoliday</th>\n",
              "      <th>SchoolHoliday</th>\n",
              "    </tr>\n",
              "  </thead>\n",
              "  <tbody>\n",
              "    <tr>\n",
              "      <th>0</th>\n",
              "      <td>1</td>\n",
              "      <td>5</td>\n",
              "      <td>2015-07-31</td>\n",
              "      <td>5263</td>\n",
              "      <td>555</td>\n",
              "      <td>1</td>\n",
              "      <td>1</td>\n",
              "      <td>0</td>\n",
              "      <td>1</td>\n",
              "    </tr>\n",
              "    <tr>\n",
              "      <th>1</th>\n",
              "      <td>2</td>\n",
              "      <td>5</td>\n",
              "      <td>2015-07-31</td>\n",
              "      <td>6064</td>\n",
              "      <td>625</td>\n",
              "      <td>1</td>\n",
              "      <td>1</td>\n",
              "      <td>0</td>\n",
              "      <td>1</td>\n",
              "    </tr>\n",
              "    <tr>\n",
              "      <th>2</th>\n",
              "      <td>3</td>\n",
              "      <td>5</td>\n",
              "      <td>2015-07-31</td>\n",
              "      <td>8314</td>\n",
              "      <td>821</td>\n",
              "      <td>1</td>\n",
              "      <td>1</td>\n",
              "      <td>0</td>\n",
              "      <td>1</td>\n",
              "    </tr>\n",
              "    <tr>\n",
              "      <th>3</th>\n",
              "      <td>4</td>\n",
              "      <td>5</td>\n",
              "      <td>2015-07-31</td>\n",
              "      <td>13995</td>\n",
              "      <td>1498</td>\n",
              "      <td>1</td>\n",
              "      <td>1</td>\n",
              "      <td>0</td>\n",
              "      <td>1</td>\n",
              "    </tr>\n",
              "    <tr>\n",
              "      <th>4</th>\n",
              "      <td>5</td>\n",
              "      <td>5</td>\n",
              "      <td>2015-07-31</td>\n",
              "      <td>4822</td>\n",
              "      <td>559</td>\n",
              "      <td>1</td>\n",
              "      <td>1</td>\n",
              "      <td>0</td>\n",
              "      <td>1</td>\n",
              "    </tr>\n",
              "  </tbody>\n",
              "</table>\n",
              "</div>"
            ],
            "text/plain": [
              "   Store  DayOfWeek        Date  Sales  ...  Open  Promo  StateHoliday SchoolHoliday\n",
              "0      1          5  2015-07-31   5263  ...     1      1             0             1\n",
              "1      2          5  2015-07-31   6064  ...     1      1             0             1\n",
              "2      3          5  2015-07-31   8314  ...     1      1             0             1\n",
              "3      4          5  2015-07-31  13995  ...     1      1             0             1\n",
              "4      5          5  2015-07-31   4822  ...     1      1             0             1\n",
              "\n",
              "[5 rows x 9 columns]"
            ]
          },
          "metadata": {
            "tags": []
          },
          "execution_count": 5
        }
      ]
    },
    {
      "cell_type": "code",
      "metadata": {
        "colab": {
          "base_uri": "https://localhost:8080/",
          "height": 202
        },
        "id": "uZ5GqfDteaPH",
        "outputId": "4e63706a-b5d9-45ed-ede0-b5f24efadeb0"
      },
      "source": [
        "rossman_df.tail()"
      ],
      "execution_count": 6,
      "outputs": [
        {
          "output_type": "execute_result",
          "data": {
            "text/html": [
              "<div>\n",
              "<style scoped>\n",
              "    .dataframe tbody tr th:only-of-type {\n",
              "        vertical-align: middle;\n",
              "    }\n",
              "\n",
              "    .dataframe tbody tr th {\n",
              "        vertical-align: top;\n",
              "    }\n",
              "\n",
              "    .dataframe thead th {\n",
              "        text-align: right;\n",
              "    }\n",
              "</style>\n",
              "<table border=\"1\" class=\"dataframe\">\n",
              "  <thead>\n",
              "    <tr style=\"text-align: right;\">\n",
              "      <th></th>\n",
              "      <th>Store</th>\n",
              "      <th>DayOfWeek</th>\n",
              "      <th>Date</th>\n",
              "      <th>Sales</th>\n",
              "      <th>Customers</th>\n",
              "      <th>Open</th>\n",
              "      <th>Promo</th>\n",
              "      <th>StateHoliday</th>\n",
              "      <th>SchoolHoliday</th>\n",
              "    </tr>\n",
              "  </thead>\n",
              "  <tbody>\n",
              "    <tr>\n",
              "      <th>1017204</th>\n",
              "      <td>1111</td>\n",
              "      <td>2</td>\n",
              "      <td>2013-01-01</td>\n",
              "      <td>0</td>\n",
              "      <td>0</td>\n",
              "      <td>0</td>\n",
              "      <td>0</td>\n",
              "      <td>a</td>\n",
              "      <td>1</td>\n",
              "    </tr>\n",
              "    <tr>\n",
              "      <th>1017205</th>\n",
              "      <td>1112</td>\n",
              "      <td>2</td>\n",
              "      <td>2013-01-01</td>\n",
              "      <td>0</td>\n",
              "      <td>0</td>\n",
              "      <td>0</td>\n",
              "      <td>0</td>\n",
              "      <td>a</td>\n",
              "      <td>1</td>\n",
              "    </tr>\n",
              "    <tr>\n",
              "      <th>1017206</th>\n",
              "      <td>1113</td>\n",
              "      <td>2</td>\n",
              "      <td>2013-01-01</td>\n",
              "      <td>0</td>\n",
              "      <td>0</td>\n",
              "      <td>0</td>\n",
              "      <td>0</td>\n",
              "      <td>a</td>\n",
              "      <td>1</td>\n",
              "    </tr>\n",
              "    <tr>\n",
              "      <th>1017207</th>\n",
              "      <td>1114</td>\n",
              "      <td>2</td>\n",
              "      <td>2013-01-01</td>\n",
              "      <td>0</td>\n",
              "      <td>0</td>\n",
              "      <td>0</td>\n",
              "      <td>0</td>\n",
              "      <td>a</td>\n",
              "      <td>1</td>\n",
              "    </tr>\n",
              "    <tr>\n",
              "      <th>1017208</th>\n",
              "      <td>1115</td>\n",
              "      <td>2</td>\n",
              "      <td>2013-01-01</td>\n",
              "      <td>0</td>\n",
              "      <td>0</td>\n",
              "      <td>0</td>\n",
              "      <td>0</td>\n",
              "      <td>a</td>\n",
              "      <td>1</td>\n",
              "    </tr>\n",
              "  </tbody>\n",
              "</table>\n",
              "</div>"
            ],
            "text/plain": [
              "         Store  DayOfWeek        Date  ...  Promo  StateHoliday  SchoolHoliday\n",
              "1017204   1111          2  2013-01-01  ...      0             a              1\n",
              "1017205   1112          2  2013-01-01  ...      0             a              1\n",
              "1017206   1113          2  2013-01-01  ...      0             a              1\n",
              "1017207   1114          2  2013-01-01  ...      0             a              1\n",
              "1017208   1115          2  2013-01-01  ...      0             a              1\n",
              "\n",
              "[5 rows x 9 columns]"
            ]
          },
          "metadata": {
            "tags": []
          },
          "execution_count": 6
        }
      ]
    },
    {
      "cell_type": "markdown",
      "metadata": {
        "id": "S-7KG5fLesbj"
      },
      "source": [
        "##### **Checking Information about Dataset**"
      ]
    },
    {
      "cell_type": "code",
      "metadata": {
        "colab": {
          "base_uri": "https://localhost:8080/"
        },
        "id": "i-6073GpMEyK",
        "outputId": "838c8995-6b3d-42b7-a987-61a7fe0d9826"
      },
      "source": [
        "rossman_df.shape"
      ],
      "execution_count": 7,
      "outputs": [
        {
          "output_type": "execute_result",
          "data": {
            "text/plain": [
              "(1017209, 9)"
            ]
          },
          "metadata": {
            "tags": []
          },
          "execution_count": 7
        }
      ]
    },
    {
      "cell_type": "code",
      "metadata": {
        "colab": {
          "base_uri": "https://localhost:8080/"
        },
        "id": "G9n492ssN-U7",
        "outputId": "55fda923-ace9-466f-b816-da971cb439f1"
      },
      "source": [
        "#Checking info of data as data types and rows and cols\n",
        "rossman_df.info()"
      ],
      "execution_count": 8,
      "outputs": [
        {
          "output_type": "stream",
          "text": [
            "<class 'pandas.core.frame.DataFrame'>\n",
            "RangeIndex: 1017209 entries, 0 to 1017208\n",
            "Data columns (total 9 columns):\n",
            " #   Column         Non-Null Count    Dtype \n",
            "---  ------         --------------    ----- \n",
            " 0   Store          1017209 non-null  int64 \n",
            " 1   DayOfWeek      1017209 non-null  int64 \n",
            " 2   Date           1017209 non-null  object\n",
            " 3   Sales          1017209 non-null  int64 \n",
            " 4   Customers      1017209 non-null  int64 \n",
            " 5   Open           1017209 non-null  int64 \n",
            " 6   Promo          1017209 non-null  int64 \n",
            " 7   StateHoliday   1017209 non-null  object\n",
            " 8   SchoolHoliday  1017209 non-null  int64 \n",
            "dtypes: int64(7), object(2)\n",
            "memory usage: 69.8+ MB\n"
          ],
          "name": "stdout"
        }
      ]
    },
    {
      "cell_type": "code",
      "metadata": {
        "colab": {
          "base_uri": "https://localhost:8080/"
        },
        "id": "1HSOHr3fOe-c",
        "outputId": "e7f7255a-8039-4658-83f4-8827e2e51431"
      },
      "source": [
        "#Checking Null Values\n",
        "rossman_df.isnull().sum()"
      ],
      "execution_count": 9,
      "outputs": [
        {
          "output_type": "execute_result",
          "data": {
            "text/plain": [
              "Store            0\n",
              "DayOfWeek        0\n",
              "Date             0\n",
              "Sales            0\n",
              "Customers        0\n",
              "Open             0\n",
              "Promo            0\n",
              "StateHoliday     0\n",
              "SchoolHoliday    0\n",
              "dtype: int64"
            ]
          },
          "metadata": {
            "tags": []
          },
          "execution_count": 9
        }
      ]
    },
    {
      "cell_type": "markdown",
      "metadata": {
        "id": "jywkgMpNf0kH"
      },
      "source": [
        "**Summary Statastics Of Dataset**"
      ]
    },
    {
      "cell_type": "code",
      "metadata": {
        "colab": {
          "base_uri": "https://localhost:8080/",
          "height": 294
        },
        "id": "jl_NZLW2O3o1",
        "outputId": "a11f66f7-d376-410e-a573-ed314e18a6dd"
      },
      "source": [
        "#Summary Statastics\n",
        "rossman_df.describe()"
      ],
      "execution_count": 10,
      "outputs": [
        {
          "output_type": "execute_result",
          "data": {
            "text/html": [
              "<div>\n",
              "<style scoped>\n",
              "    .dataframe tbody tr th:only-of-type {\n",
              "        vertical-align: middle;\n",
              "    }\n",
              "\n",
              "    .dataframe tbody tr th {\n",
              "        vertical-align: top;\n",
              "    }\n",
              "\n",
              "    .dataframe thead th {\n",
              "        text-align: right;\n",
              "    }\n",
              "</style>\n",
              "<table border=\"1\" class=\"dataframe\">\n",
              "  <thead>\n",
              "    <tr style=\"text-align: right;\">\n",
              "      <th></th>\n",
              "      <th>Store</th>\n",
              "      <th>DayOfWeek</th>\n",
              "      <th>Sales</th>\n",
              "      <th>Customers</th>\n",
              "      <th>Open</th>\n",
              "      <th>Promo</th>\n",
              "      <th>SchoolHoliday</th>\n",
              "    </tr>\n",
              "  </thead>\n",
              "  <tbody>\n",
              "    <tr>\n",
              "      <th>count</th>\n",
              "      <td>1.017209e+06</td>\n",
              "      <td>1.017209e+06</td>\n",
              "      <td>1.017209e+06</td>\n",
              "      <td>1.017209e+06</td>\n",
              "      <td>1.017209e+06</td>\n",
              "      <td>1.017209e+06</td>\n",
              "      <td>1.017209e+06</td>\n",
              "    </tr>\n",
              "    <tr>\n",
              "      <th>mean</th>\n",
              "      <td>5.584297e+02</td>\n",
              "      <td>3.998341e+00</td>\n",
              "      <td>5.773819e+03</td>\n",
              "      <td>6.331459e+02</td>\n",
              "      <td>8.301067e-01</td>\n",
              "      <td>3.815145e-01</td>\n",
              "      <td>1.786467e-01</td>\n",
              "    </tr>\n",
              "    <tr>\n",
              "      <th>std</th>\n",
              "      <td>3.219087e+02</td>\n",
              "      <td>1.997391e+00</td>\n",
              "      <td>3.849926e+03</td>\n",
              "      <td>4.644117e+02</td>\n",
              "      <td>3.755392e-01</td>\n",
              "      <td>4.857586e-01</td>\n",
              "      <td>3.830564e-01</td>\n",
              "    </tr>\n",
              "    <tr>\n",
              "      <th>min</th>\n",
              "      <td>1.000000e+00</td>\n",
              "      <td>1.000000e+00</td>\n",
              "      <td>0.000000e+00</td>\n",
              "      <td>0.000000e+00</td>\n",
              "      <td>0.000000e+00</td>\n",
              "      <td>0.000000e+00</td>\n",
              "      <td>0.000000e+00</td>\n",
              "    </tr>\n",
              "    <tr>\n",
              "      <th>25%</th>\n",
              "      <td>2.800000e+02</td>\n",
              "      <td>2.000000e+00</td>\n",
              "      <td>3.727000e+03</td>\n",
              "      <td>4.050000e+02</td>\n",
              "      <td>1.000000e+00</td>\n",
              "      <td>0.000000e+00</td>\n",
              "      <td>0.000000e+00</td>\n",
              "    </tr>\n",
              "    <tr>\n",
              "      <th>50%</th>\n",
              "      <td>5.580000e+02</td>\n",
              "      <td>4.000000e+00</td>\n",
              "      <td>5.744000e+03</td>\n",
              "      <td>6.090000e+02</td>\n",
              "      <td>1.000000e+00</td>\n",
              "      <td>0.000000e+00</td>\n",
              "      <td>0.000000e+00</td>\n",
              "    </tr>\n",
              "    <tr>\n",
              "      <th>75%</th>\n",
              "      <td>8.380000e+02</td>\n",
              "      <td>6.000000e+00</td>\n",
              "      <td>7.856000e+03</td>\n",
              "      <td>8.370000e+02</td>\n",
              "      <td>1.000000e+00</td>\n",
              "      <td>1.000000e+00</td>\n",
              "      <td>0.000000e+00</td>\n",
              "    </tr>\n",
              "    <tr>\n",
              "      <th>max</th>\n",
              "      <td>1.115000e+03</td>\n",
              "      <td>7.000000e+00</td>\n",
              "      <td>4.155100e+04</td>\n",
              "      <td>7.388000e+03</td>\n",
              "      <td>1.000000e+00</td>\n",
              "      <td>1.000000e+00</td>\n",
              "      <td>1.000000e+00</td>\n",
              "    </tr>\n",
              "  </tbody>\n",
              "</table>\n",
              "</div>"
            ],
            "text/plain": [
              "              Store     DayOfWeek  ...         Promo  SchoolHoliday\n",
              "count  1.017209e+06  1.017209e+06  ...  1.017209e+06   1.017209e+06\n",
              "mean   5.584297e+02  3.998341e+00  ...  3.815145e-01   1.786467e-01\n",
              "std    3.219087e+02  1.997391e+00  ...  4.857586e-01   3.830564e-01\n",
              "min    1.000000e+00  1.000000e+00  ...  0.000000e+00   0.000000e+00\n",
              "25%    2.800000e+02  2.000000e+00  ...  0.000000e+00   0.000000e+00\n",
              "50%    5.580000e+02  4.000000e+00  ...  0.000000e+00   0.000000e+00\n",
              "75%    8.380000e+02  6.000000e+00  ...  1.000000e+00   0.000000e+00\n",
              "max    1.115000e+03  7.000000e+00  ...  1.000000e+00   1.000000e+00\n",
              "\n",
              "[8 rows x 7 columns]"
            ]
          },
          "metadata": {
            "tags": []
          },
          "execution_count": 10
        }
      ]
    },
    {
      "cell_type": "code",
      "metadata": {
        "colab": {
          "base_uri": "https://localhost:8080/"
        },
        "id": "G6FuY2lJNb2t",
        "outputId": "6f752099-ffe8-4631-e08e-9cd55db37905"
      },
      "source": [
        "#No. Of Stores in the Dataset\n",
        "rossman_df.Store.nunique()"
      ],
      "execution_count": 11,
      "outputs": [
        {
          "output_type": "execute_result",
          "data": {
            "text/plain": [
              "1115"
            ]
          },
          "metadata": {
            "tags": []
          },
          "execution_count": 11
        }
      ]
    },
    {
      "cell_type": "code",
      "metadata": {
        "colab": {
          "base_uri": "https://localhost:8080/"
        },
        "id": "SmHx0197Xg3x",
        "outputId": "519f0552-672d-4d2b-fa77-a1db270ea5c3"
      },
      "source": [
        "# Value_counts of StateHoliday Column\n",
        "\n",
        "rossman_df.StateHoliday.value_counts()"
      ],
      "execution_count": 12,
      "outputs": [
        {
          "output_type": "execute_result",
          "data": {
            "text/plain": [
              "0    986159\n",
              "a     20260\n",
              "b      6690\n",
              "c      4100\n",
              "Name: StateHoliday, dtype: int64"
            ]
          },
          "metadata": {
            "tags": []
          },
          "execution_count": 12
        }
      ]
    },
    {
      "cell_type": "code",
      "metadata": {
        "id": "gT0VvBh3jRmW"
      },
      "source": [
        "# extract year, month, day and week of year from \"Date\"\n",
        "\n",
        "rossman_df['Date']=pd.to_datetime(rossman_df['Date'])\n",
        "\n",
        "rossman_df['Year'] = rossman_df['Date'].apply(lambda x: x.year)\n",
        "rossman_df['Month'] = rossman_df['Date'].apply(lambda x: x.month)\n",
        "rossman_df['Day'] = rossman_df['Date'].apply(lambda x: x.day)\n",
        "rossman_df['WeekOfYear'] = rossman_df['Date'].apply(lambda x: x.weekofyear)"
      ],
      "execution_count": 13,
      "outputs": []
    },
    {
      "cell_type": "code",
      "metadata": {
        "id": "qOG5jyEekfz2",
        "colab": {
          "base_uri": "https://localhost:8080/",
          "height": 110
        },
        "outputId": "625b0d56-6b3c-4fe6-94db-d23f5cda2ed5"
      },
      "source": [
        "rossman_df.sort_values(by=['Date','Store'],inplace=True,ascending=[False,True])\n",
        "rossman_df.head(2)"
      ],
      "execution_count": 14,
      "outputs": [
        {
          "output_type": "execute_result",
          "data": {
            "text/html": [
              "<div>\n",
              "<style scoped>\n",
              "    .dataframe tbody tr th:only-of-type {\n",
              "        vertical-align: middle;\n",
              "    }\n",
              "\n",
              "    .dataframe tbody tr th {\n",
              "        vertical-align: top;\n",
              "    }\n",
              "\n",
              "    .dataframe thead th {\n",
              "        text-align: right;\n",
              "    }\n",
              "</style>\n",
              "<table border=\"1\" class=\"dataframe\">\n",
              "  <thead>\n",
              "    <tr style=\"text-align: right;\">\n",
              "      <th></th>\n",
              "      <th>Store</th>\n",
              "      <th>DayOfWeek</th>\n",
              "      <th>Date</th>\n",
              "      <th>Sales</th>\n",
              "      <th>Customers</th>\n",
              "      <th>Open</th>\n",
              "      <th>Promo</th>\n",
              "      <th>StateHoliday</th>\n",
              "      <th>SchoolHoliday</th>\n",
              "      <th>Year</th>\n",
              "      <th>Month</th>\n",
              "      <th>Day</th>\n",
              "      <th>WeekOfYear</th>\n",
              "    </tr>\n",
              "  </thead>\n",
              "  <tbody>\n",
              "    <tr>\n",
              "      <th>0</th>\n",
              "      <td>1</td>\n",
              "      <td>5</td>\n",
              "      <td>2015-07-31</td>\n",
              "      <td>5263</td>\n",
              "      <td>555</td>\n",
              "      <td>1</td>\n",
              "      <td>1</td>\n",
              "      <td>0</td>\n",
              "      <td>1</td>\n",
              "      <td>2015</td>\n",
              "      <td>7</td>\n",
              "      <td>31</td>\n",
              "      <td>31</td>\n",
              "    </tr>\n",
              "    <tr>\n",
              "      <th>1</th>\n",
              "      <td>2</td>\n",
              "      <td>5</td>\n",
              "      <td>2015-07-31</td>\n",
              "      <td>6064</td>\n",
              "      <td>625</td>\n",
              "      <td>1</td>\n",
              "      <td>1</td>\n",
              "      <td>0</td>\n",
              "      <td>1</td>\n",
              "      <td>2015</td>\n",
              "      <td>7</td>\n",
              "      <td>31</td>\n",
              "      <td>31</td>\n",
              "    </tr>\n",
              "  </tbody>\n",
              "</table>\n",
              "</div>"
            ],
            "text/plain": [
              "   Store  DayOfWeek       Date  Sales  ...  Year  Month  Day WeekOfYear\n",
              "0      1          5 2015-07-31   5263  ...  2015      7   31         31\n",
              "1      2          5 2015-07-31   6064  ...  2015      7   31         31\n",
              "\n",
              "[2 rows x 13 columns]"
            ]
          },
          "metadata": {
            "tags": []
          },
          "execution_count": 14
        }
      ]
    },
    {
      "cell_type": "markdown",
      "metadata": {
        "id": "HrXAJaO82ta8"
      },
      "source": [
        "## **EDA On Rossman Dataset**"
      ]
    },
    {
      "cell_type": "markdown",
      "metadata": {
        "id": "1NzlEhTngTQs"
      },
      "source": [
        "#### **Heatmap of the Rossman Dataset**"
      ]
    },
    {
      "cell_type": "code",
      "metadata": {
        "id": "cmn_ykcZmVE3",
        "colab": {
          "base_uri": "https://localhost:8080/",
          "height": 572
        },
        "outputId": "7481f50c-7994-424f-b058-bb8e312d1010"
      },
      "source": [
        "correlation_map = rossman_df[rossman_df.columns].corr()\n",
        "obj = np.array(correlation_map)\n",
        "obj[np.tril_indices_from(obj)] = False\n",
        "fig,ax= plt.subplots()\n",
        "fig.set_size_inches(9,9)\n",
        "sns.heatmap(correlation_map, mask=obj,vmax=.7, square=True,annot=True)"
      ],
      "execution_count": 15,
      "outputs": [
        {
          "output_type": "execute_result",
          "data": {
            "text/plain": [
              "<matplotlib.axes._subplots.AxesSubplot at 0x7f23a1817090>"
            ]
          },
          "metadata": {
            "tags": []
          },
          "execution_count": 15
        },
        {
          "output_type": "display_data",
          "data": {
            "image/png": "[encoded data removed]",
            "text/plain": [
              "<Figure size 648x648 with 2 Axes>"
            ]
          },
          "metadata": {
            "tags": [],
            "needs_background": "light"
          }
        }
      ]
    },
    {
      "cell_type": "markdown",
      "metadata": {
        "id": "aM0217Iigvn0"
      },
      "source": [
        "**As we can see that in the graph given below that Stores mainly closed on Sunday**"
      ]
    },
    {
      "cell_type": "code",
      "metadata": {
        "id": "UdinNgC2Xguu",
        "colab": {
          "base_uri": "https://localhost:8080/",
          "height": 300
        },
        "outputId": "26be173c-5454-4f95-a8ea-ab1f9be6d71b"
      },
      "source": [
        "sns.countplot(x='DayOfWeek',hue='Open',data=rossman_df)"
      ],
      "execution_count": 16,
      "outputs": [
        {
          "output_type": "execute_result",
          "data": {
            "text/plain": [
              "<matplotlib.axes._subplots.AxesSubplot at 0x7f237b779690>"
            ]
          },
          "metadata": {
            "tags": []
          },
          "execution_count": 16
        },
        {
          "output_type": "display_data",
          "data": {
            "image/png": "[encoded data removed]",
            "text/plain": [
              "<Figure size 432x288 with 1 Axes>"
            ]
          },
          "metadata": {
            "tags": [],
            "needs_background": "light"
          }
        }
      ]
    },
    {
      "cell_type": "markdown",
      "metadata": {
        "id": "NE20Ui50hO0Z"
      },
      "source": [
        "**As We can see that In the month of November and Specially in December Sales is increasing Rapidly every year on the christmas eve.**"
      ]
    },
    {
      "cell_type": "code",
      "metadata": {
        "id": "iM2ChGCojRV_",
        "colab": {
          "base_uri": "https://localhost:8080/",
          "height": 827
        },
        "outputId": "05d39803-6262-4391-db56-e3d9c34c888e"
      },
      "source": [
        "sns.factorplot(x=\"Month\" ,y = \"Sales\" , data=rossman_df, kind=\"point\", aspect=2,size=10)"
      ],
      "execution_count": 17,
      "outputs": [
        {
          "output_type": "stream",
          "text": [
            "/usr/local/lib/python3.7/dist-packages/seaborn/categorical.py:3714: UserWarning: The `factorplot` function has been renamed to `catplot`. The original name will be removed in a future release. Please update your code. Note that the default `kind` in `factorplot` (`'point'`) has changed `'strip'` in `catplot`.\n",
            "  warnings.warn(msg)\n",
            "/usr/local/lib/python3.7/dist-packages/seaborn/categorical.py:3720: UserWarning: The `size` parameter has been renamed to `height`; please update your code.\n",
            "  warnings.warn(msg, UserWarning)\n"
          ],
          "name": "stderr"
        },
        {
          "output_type": "execute_result",
          "data": {
            "text/plain": [
              "<seaborn.axisgrid.FacetGrid at 0x7f237b144e50>"
            ]
          },
          "metadata": {
            "tags": []
          },
          "execution_count": 17
        },
        {
          "output_type": "display_data",
          "data": {
            "image/png": "[encoded data removed]",
            "text/plain": [
              "<Figure size 1440x720 with 1 Axes>"
            ]
          },
          "metadata": {
            "tags": [],
            "needs_background": "light"
          }
        }
      ]
    },
    {
      "cell_type": "code",
      "metadata": {
        "id": "mHxknadkrsb5",
        "colab": {
          "base_uri": "https://localhost:8080/"
        },
        "outputId": "61cab393-cc91-44db-9ecb-38a94818d0fe"
      },
      "source": [
        "# Value Counts of SchoolHoliday Column\n",
        "rossman_df.SchoolHoliday.value_counts()"
      ],
      "execution_count": 18,
      "outputs": [
        {
          "output_type": "execute_result",
          "data": {
            "text/plain": [
              "0    835488\n",
              "1    181721\n",
              "Name: SchoolHoliday, dtype: int64"
            ]
          },
          "metadata": {
            "tags": []
          },
          "execution_count": 18
        }
      ]
    },
    {
      "cell_type": "markdown",
      "metadata": {
        "id": "IhyjXxKEhfXM"
      },
      "source": [
        "**As we can see in the Piechart Sales affected by School Holiday is 18% and Mainly Sales aren't afffected by School Holiday**"
      ]
    },
    {
      "cell_type": "code",
      "metadata": {
        "id": "9RWq8u1srs4Q",
        "colab": {
          "base_uri": "https://localhost:8080/",
          "height": 377
        },
        "outputId": "bc7e96d5-5177-4983-fa49-e0ea4e30bed6"
      },
      "source": [
        "labels = 'Not-Affected' , 'Affected'\n",
        "sizes = rossman_df.SchoolHoliday.value_counts()\n",
        "colors = ['gold', 'silver']\n",
        "explode = (0.1, 0.0)\n",
        "plt.pie(sizes, explode=explode, labels=labels, colors=colors,\n",
        "        autopct='%1.1f%%', shadow=True, startangle=180)\n",
        "plt.axis('equal')\n",
        "plt.title(\"Sales Affected by Schoolholiday or Not ?\",fontsize=20)\n",
        "plt.plot()\n",
        "fig=plt.gcf()\n",
        "fig.set_size_inches(6,6)\n",
        "plt.show()\n"
      ],
      "execution_count": 19,
      "outputs": [
        {
          "output_type": "display_data",
          "data": {
            "image/png": "[encoded data removed]",
            "text/plain": [
              "<Figure size 432x432 with 1 Axes>"
            ]
          },
          "metadata": {
            "tags": []
          }
        }
      ]
    },
    {
      "cell_type": "markdown",
      "metadata": {
        "id": "kIqnxFXN1Zcj"
      },
      "source": [
        "### **Transforming Variable StateHoliday**"
      ]
    },
    {
      "cell_type": "code",
      "metadata": {
        "id": "c4120SC6rtND"
      },
      "source": [
        "rossman_df[\"StateHoliday\"] = rossman_df[\"StateHoliday\"].map({0: 0, \"0\": 0, \"a\": 1, \"b\": 1, \"c\": 1})"
      ],
      "execution_count": 20,
      "outputs": []
    },
    {
      "cell_type": "code",
      "metadata": {
        "id": "vIO18L2SxLu0",
        "colab": {
          "base_uri": "https://localhost:8080/"
        },
        "outputId": "76d3fd80-4303-433d-9e49-627306981f1b"
      },
      "source": [
        "rossman_df.StateHoliday.value_counts()"
      ],
      "execution_count": 21,
      "outputs": [
        {
          "output_type": "execute_result",
          "data": {
            "text/plain": [
              "0    986159\n",
              "1     31050\n",
              "Name: StateHoliday, dtype: int64"
            ]
          },
          "metadata": {
            "tags": []
          },
          "execution_count": 21
        }
      ]
    },
    {
      "cell_type": "markdown",
      "metadata": {
        "id": "iLkGPSoJibKO"
      },
      "source": [
        "**As we can see in the Piechart Sales affected by State Holiday is only 3% means Sales aren't afffected by State Holiday**"
      ]
    },
    {
      "cell_type": "code",
      "metadata": {
        "id": "SrGHoGL4xLsk",
        "colab": {
          "base_uri": "https://localhost:8080/",
          "height": 377
        },
        "outputId": "82005ad3-e6da-42dd-f904-0edeab7586dc"
      },
      "source": [
        "labels = 'Not-Affected' , 'Affected'\n",
        "sizes = rossman_df.StateHoliday.value_counts()\n",
        "colors = ['orange','green']\n",
        "explode = (0.1, 0.0)\n",
        "plt.pie(sizes, explode=explode, labels=labels, colors=colors,\n",
        "        autopct='%1.1f%%', shadow=True, startangle=180)\n",
        "plt.axis('equal')\n",
        "plt.title(\"Sales Affected by State holiday or Not ?\",fontsize=20)\n",
        "plt.plot()\n",
        "fig=plt.gcf()\n",
        "fig.set_size_inches(6,6)\n",
        "plt.show()"
      ],
      "execution_count": 22,
      "outputs": [
        {
          "output_type": "display_data",
          "data": {
            "image/png": "[encoded data removed]",
            "text/plain": [
              "<Figure size 432x432 with 1 Axes>"
            ]
          },
          "metadata": {
            "tags": []
          }
        }
      ]
    },
    {
      "cell_type": "markdown",
      "metadata": {
        "id": "e1Ef9-mocRrd"
      },
      "source": [
        "**As Sales isn't much affected by State Holiday so i'm removing this column**"
      ]
    },
    {
      "cell_type": "code",
      "metadata": {
        "id": "lKeIY9LrcUki"
      },
      "source": [
        "rossman_df.drop('StateHoliday',inplace=True,axis=1)"
      ],
      "execution_count": 23,
      "outputs": []
    },
    {
      "cell_type": "markdown",
      "metadata": {
        "id": "OQI_7nUHjGUU"
      },
      "source": [
        "**Histogram Representation of Sales. Here 0 is showing because most of the time store was closed.**"
      ]
    },
    {
      "cell_type": "code",
      "metadata": {
        "id": "tWk706k8z9GB",
        "colab": {
          "base_uri": "https://localhost:8080/",
          "height": 282
        },
        "outputId": "33990bbb-a019-43d5-ccce-eddfce82d998"
      },
      "source": [
        "rossman_df[\"Sales\"].plot(kind='hist',bins=100,xlim=(0,15000))"
      ],
      "execution_count": 24,
      "outputs": [
        {
          "output_type": "execute_result",
          "data": {
            "text/plain": [
              "<matplotlib.axes._subplots.AxesSubplot at 0x7f236afdb650>"
            ]
          },
          "metadata": {
            "tags": []
          },
          "execution_count": 24
        },
        {
          "output_type": "display_data",
          "data": {
            "image/png": "[encoded data removed]",
            "text/plain": [
              "<Figure size 432x288 with 1 Axes>"
            ]
          },
          "metadata": {
            "tags": [],
            "needs_background": "light"
          }
        }
      ]
    },
    {
      "cell_type": "markdown",
      "metadata": {
        "id": "z1f1mvT5Sol_"
      },
      "source": [
        "## **Analysing the Store Dataset**"
      ]
    },
    {
      "cell_type": "code",
      "metadata": {
        "id": "v3xgxjQERlF-",
        "colab": {
          "base_uri": "https://localhost:8080/",
          "height": 202
        },
        "outputId": "175f4490-4494-45a7-ab38-677251802b1f"
      },
      "source": [
        "store_df.head(5)"
      ],
      "execution_count": 25,
      "outputs": [
        {
          "output_type": "execute_result",
          "data": {
            "text/html": [
              "<div>\n",
              "<style scoped>\n",
              "    .dataframe tbody tr th:only-of-type {\n",
              "        vertical-align: middle;\n",
              "    }\n",
              "\n",
              "    .dataframe tbody tr th {\n",
              "        vertical-align: top;\n",
              "    }\n",
              "\n",
              "    .dataframe thead th {\n",
              "        text-align: right;\n",
              "    }\n",
              "</style>\n",
              "<table border=\"1\" class=\"dataframe\">\n",
              "  <thead>\n",
              "    <tr style=\"text-align: right;\">\n",
              "      <th></th>\n",
              "      <th>Store</th>\n",
              "      <th>StoreType</th>\n",
              "      <th>Assortment</th>\n",
              "      <th>CompetitionDistance</th>\n",
              "      <th>CompetitionOpenSinceMonth</th>\n",
              "      <th>CompetitionOpenSinceYear</th>\n",
              "      <th>Promo2</th>\n",
              "      <th>Promo2SinceWeek</th>\n",
              "      <th>Promo2SinceYear</th>\n",
              "      <th>PromoInterval</th>\n",
              "    </tr>\n",
              "  </thead>\n",
              "  <tbody>\n",
              "    <tr>\n",
              "      <th>0</th>\n",
              "      <td>1</td>\n",
              "      <td>c</td>\n",
              "      <td>a</td>\n",
              "      <td>1270.0</td>\n",
              "      <td>9.0</td>\n",
              "      <td>2008.0</td>\n",
              "      <td>0</td>\n",
              "      <td>NaN</td>\n",
              "      <td>NaN</td>\n",
              "      <td>NaN</td>\n",
              "    </tr>\n",
              "    <tr>\n",
              "      <th>1</th>\n",
              "      <td>2</td>\n",
              "      <td>a</td>\n",
              "      <td>a</td>\n",
              "      <td>570.0</td>\n",
              "      <td>11.0</td>\n",
              "      <td>2007.0</td>\n",
              "      <td>1</td>\n",
              "      <td>13.0</td>\n",
              "      <td>2010.0</td>\n",
              "      <td>Jan,Apr,Jul,Oct</td>\n",
              "    </tr>\n",
              "    <tr>\n",
              "      <th>2</th>\n",
              "      <td>3</td>\n",
              "      <td>a</td>\n",
              "      <td>a</td>\n",
              "      <td>14130.0</td>\n",
              "      <td>12.0</td>\n",
              "      <td>2006.0</td>\n",
              "      <td>1</td>\n",
              "      <td>14.0</td>\n",
              "      <td>2011.0</td>\n",
              "      <td>Jan,Apr,Jul,Oct</td>\n",
              "    </tr>\n",
              "    <tr>\n",
              "      <th>3</th>\n",
              "      <td>4</td>\n",
              "      <td>c</td>\n",
              "      <td>c</td>\n",
              "      <td>620.0</td>\n",
              "      <td>9.0</td>\n",
              "      <td>2009.0</td>\n",
              "      <td>0</td>\n",
              "      <td>NaN</td>\n",
              "      <td>NaN</td>\n",
              "      <td>NaN</td>\n",
              "    </tr>\n",
              "    <tr>\n",
              "      <th>4</th>\n",
              "      <td>5</td>\n",
              "      <td>a</td>\n",
              "      <td>a</td>\n",
              "      <td>29910.0</td>\n",
              "      <td>4.0</td>\n",
              "      <td>2015.0</td>\n",
              "      <td>0</td>\n",
              "      <td>NaN</td>\n",
              "      <td>NaN</td>\n",
              "      <td>NaN</td>\n",
              "    </tr>\n",
              "  </tbody>\n",
              "</table>\n",
              "</div>"
            ],
            "text/plain": [
              "   Store StoreType  ... Promo2SinceYear    PromoInterval\n",
              "0      1         c  ...             NaN              NaN\n",
              "1      2         a  ...          2010.0  Jan,Apr,Jul,Oct\n",
              "2      3         a  ...          2011.0  Jan,Apr,Jul,Oct\n",
              "3      4         c  ...             NaN              NaN\n",
              "4      5         a  ...             NaN              NaN\n",
              "\n",
              "[5 rows x 10 columns]"
            ]
          },
          "metadata": {
            "tags": []
          },
          "execution_count": 25
        }
      ]
    },
    {
      "cell_type": "code",
      "metadata": {
        "colab": {
          "base_uri": "https://localhost:8080/",
          "height": 202
        },
        "id": "K5hSmm0hfPDI",
        "outputId": "df09891d-b839-4b87-bc40-136a5a579790"
      },
      "source": [
        "store_df.tail()"
      ],
      "execution_count": 26,
      "outputs": [
        {
          "output_type": "execute_result",
          "data": {
            "text/html": [
              "<div>\n",
              "<style scoped>\n",
              "    .dataframe tbody tr th:only-of-type {\n",
              "        vertical-align: middle;\n",
              "    }\n",
              "\n",
              "    .dataframe tbody tr th {\n",
              "        vertical-align: top;\n",
              "    }\n",
              "\n",
              "    .dataframe thead th {\n",
              "        text-align: right;\n",
              "    }\n",
              "</style>\n",
              "<table border=\"1\" class=\"dataframe\">\n",
              "  <thead>\n",
              "    <tr style=\"text-align: right;\">\n",
              "      <th></th>\n",
              "      <th>Store</th>\n",
              "      <th>StoreType</th>\n",
              "      <th>Assortment</th>\n",
              "      <th>CompetitionDistance</th>\n",
              "      <th>CompetitionOpenSinceMonth</th>\n",
              "      <th>CompetitionOpenSinceYear</th>\n",
              "      <th>Promo2</th>\n",
              "      <th>Promo2SinceWeek</th>\n",
              "      <th>Promo2SinceYear</th>\n",
              "      <th>PromoInterval</th>\n",
              "    </tr>\n",
              "  </thead>\n",
              "  <tbody>\n",
              "    <tr>\n",
              "      <th>1110</th>\n",
              "      <td>1111</td>\n",
              "      <td>a</td>\n",
              "      <td>a</td>\n",
              "      <td>1900.0</td>\n",
              "      <td>6.0</td>\n",
              "      <td>2014.0</td>\n",
              "      <td>1</td>\n",
              "      <td>31.0</td>\n",
              "      <td>2013.0</td>\n",
              "      <td>Jan,Apr,Jul,Oct</td>\n",
              "    </tr>\n",
              "    <tr>\n",
              "      <th>1111</th>\n",
              "      <td>1112</td>\n",
              "      <td>c</td>\n",
              "      <td>c</td>\n",
              "      <td>1880.0</td>\n",
              "      <td>4.0</td>\n",
              "      <td>2006.0</td>\n",
              "      <td>0</td>\n",
              "      <td>NaN</td>\n",
              "      <td>NaN</td>\n",
              "      <td>NaN</td>\n",
              "    </tr>\n",
              "    <tr>\n",
              "      <th>1112</th>\n",
              "      <td>1113</td>\n",
              "      <td>a</td>\n",
              "      <td>c</td>\n",
              "      <td>9260.0</td>\n",
              "      <td>NaN</td>\n",
              "      <td>NaN</td>\n",
              "      <td>0</td>\n",
              "      <td>NaN</td>\n",
              "      <td>NaN</td>\n",
              "      <td>NaN</td>\n",
              "    </tr>\n",
              "    <tr>\n",
              "      <th>1113</th>\n",
              "      <td>1114</td>\n",
              "      <td>a</td>\n",
              "      <td>c</td>\n",
              "      <td>870.0</td>\n",
              "      <td>NaN</td>\n",
              "      <td>NaN</td>\n",
              "      <td>0</td>\n",
              "      <td>NaN</td>\n",
              "      <td>NaN</td>\n",
              "      <td>NaN</td>\n",
              "    </tr>\n",
              "    <tr>\n",
              "      <th>1114</th>\n",
              "      <td>1115</td>\n",
              "      <td>d</td>\n",
              "      <td>c</td>\n",
              "      <td>5350.0</td>\n",
              "      <td>NaN</td>\n",
              "      <td>NaN</td>\n",
              "      <td>1</td>\n",
              "      <td>22.0</td>\n",
              "      <td>2012.0</td>\n",
              "      <td>Mar,Jun,Sept,Dec</td>\n",
              "    </tr>\n",
              "  </tbody>\n",
              "</table>\n",
              "</div>"
            ],
            "text/plain": [
              "      Store StoreType  ... Promo2SinceYear     PromoInterval\n",
              "1110   1111         a  ...          2013.0   Jan,Apr,Jul,Oct\n",
              "1111   1112         c  ...             NaN               NaN\n",
              "1112   1113         a  ...             NaN               NaN\n",
              "1113   1114         a  ...             NaN               NaN\n",
              "1114   1115         d  ...          2012.0  Mar,Jun,Sept,Dec\n",
              "\n",
              "[5 rows x 10 columns]"
            ]
          },
          "metadata": {
            "tags": []
          },
          "execution_count": 26
        }
      ]
    },
    {
      "cell_type": "markdown",
      "metadata": {
        "id": "tl27X8rAfXqN"
      },
      "source": [
        "##### **Checking Information about Dataset**"
      ]
    },
    {
      "cell_type": "code",
      "metadata": {
        "id": "sBgGQih_RycA",
        "colab": {
          "base_uri": "https://localhost:8080/"
        },
        "outputId": "a0b98d4b-f65e-4ca8-883d-d9878292f2bb"
      },
      "source": [
        "store_df.shape"
      ],
      "execution_count": 27,
      "outputs": [
        {
          "output_type": "execute_result",
          "data": {
            "text/plain": [
              "(1115, 10)"
            ]
          },
          "metadata": {
            "tags": []
          },
          "execution_count": 27
        }
      ]
    },
    {
      "cell_type": "code",
      "metadata": {
        "id": "vO1jpkXIPD51",
        "colab": {
          "base_uri": "https://localhost:8080/"
        },
        "outputId": "1dd2368b-213d-43cc-e39b-5b97bdac52b7"
      },
      "source": [
        "#Checking info of data as data types and rows and cols\n",
        "store_df.info()"
      ],
      "execution_count": 28,
      "outputs": [
        {
          "output_type": "stream",
          "text": [
            "<class 'pandas.core.frame.DataFrame'>\n",
            "RangeIndex: 1115 entries, 0 to 1114\n",
            "Data columns (total 10 columns):\n",
            " #   Column                     Non-Null Count  Dtype  \n",
            "---  ------                     --------------  -----  \n",
            " 0   Store                      1115 non-null   int64  \n",
            " 1   StoreType                  1115 non-null   object \n",
            " 2   Assortment                 1115 non-null   object \n",
            " 3   CompetitionDistance        1112 non-null   float64\n",
            " 4   CompetitionOpenSinceMonth  761 non-null    float64\n",
            " 5   CompetitionOpenSinceYear   761 non-null    float64\n",
            " 6   Promo2                     1115 non-null   int64  \n",
            " 7   Promo2SinceWeek            571 non-null    float64\n",
            " 8   Promo2SinceYear            571 non-null    float64\n",
            " 9   PromoInterval              571 non-null    object \n",
            "dtypes: float64(5), int64(2), object(3)\n",
            "memory usage: 87.2+ KB\n"
          ],
          "name": "stdout"
        }
      ]
    },
    {
      "cell_type": "code",
      "metadata": {
        "id": "U8MxclyJYm75",
        "colab": {
          "base_uri": "https://localhost:8080/"
        },
        "outputId": "69504592-54ad-4d9e-db0f-b2b1b00afea7"
      },
      "source": [
        "#Checking Null Values\n",
        "store_df.isnull().sum()"
      ],
      "execution_count": 29,
      "outputs": [
        {
          "output_type": "execute_result",
          "data": {
            "text/plain": [
              "Store                          0\n",
              "StoreType                      0\n",
              "Assortment                     0\n",
              "CompetitionDistance            3\n",
              "CompetitionOpenSinceMonth    354\n",
              "CompetitionOpenSinceYear     354\n",
              "Promo2                         0\n",
              "Promo2SinceWeek              544\n",
              "Promo2SinceYear              544\n",
              "PromoInterval                544\n",
              "dtype: int64"
            ]
          },
          "metadata": {
            "tags": []
          },
          "execution_count": 29
        }
      ]
    },
    {
      "cell_type": "code",
      "metadata": {
        "id": "7K7UvASDZN9R",
        "colab": {
          "base_uri": "https://localhost:8080/",
          "height": 377
        },
        "outputId": "a2f70b48-7f57-42ab-f9aa-22a8e3ad97ec"
      },
      "source": [
        "labels = 'a' , 'b' , 'c' , 'd'\n",
        "sizes = store_df.StoreType.value_counts()\n",
        "colors = ['orange', 'green' , 'red' , 'pink']\n",
        "explode = (0.1, 0.0 , 0.15 , 0.0)\n",
        "plt.pie(sizes, explode=explode, labels=labels, colors=colors,\n",
        "        autopct='%1.1f%%', shadow=True, startangle=180)\n",
        "plt.axis('equal')\n",
        "plt.title(\"Distribution of different StoreTypes\")\n",
        "plt.plot()\n",
        "fig=plt.gcf()\n",
        "fig.set_size_inches(6,6)\n",
        "plt.show()\n"
      ],
      "execution_count": 30,
      "outputs": [
        {
          "output_type": "display_data",
          "data": {
            "image/png": "[encoded data removed]",
            "text/plain": [
              "<Figure size 432x432 with 1 Axes>"
            ]
          },
          "metadata": {
            "tags": []
          }
        }
      ]
    },
    {
      "cell_type": "markdown",
      "metadata": {
        "id": "SCXOEw9tr430"
      },
      "source": [
        "### **Remove features with high percentages of missing values**\n",
        "\n",
        "#### **we can see that some features have a high percentage of missing values and they won't be accurate as indicators, so we will remove features with more than 30% missing values.**"
      ]
    },
    {
      "cell_type": "code",
      "metadata": {
        "id": "LgE9svisr0uV"
      },
      "source": [
        "# remove features\n",
        "store_df = store_df.drop(['CompetitionOpenSinceMonth', 'CompetitionOpenSinceYear','Promo2SinceWeek',\n",
        "                     'Promo2SinceYear', 'PromoInterval'], axis=1)"
      ],
      "execution_count": 31,
      "outputs": []
    },
    {
      "cell_type": "markdown",
      "metadata": {
        "id": "LI4OLuetsoGF"
      },
      "source": [
        "#### **Replace missing values in features with low percentages of missing values**"
      ]
    },
    {
      "cell_type": "code",
      "metadata": {
        "id": "Ee-opiXMr0qi",
        "colab": {
          "base_uri": "https://localhost:8080/",
          "height": 372
        },
        "outputId": "44f8d199-3a1a-4bf1-9ceb-add37fba555e"
      },
      "source": [
        "# CompetitionDistance is distance in meters to the nearest competitor store\n",
        "# let's first have a look at its distribution\n",
        "\n",
        "sns.distplot(store_df.CompetitionDistance.dropna())\n",
        "plt.title(\"Distributin of Store Competition Distance\")"
      ],
      "execution_count": 32,
      "outputs": [
        {
          "output_type": "stream",
          "text": [
            "/usr/local/lib/python3.7/dist-packages/seaborn/distributions.py:2557: FutureWarning: `distplot` is a deprecated function and will be removed in a future version. Please adapt your code to use either `displot` (a figure-level function with similar flexibility) or `histplot` (an axes-level function for histograms).\n",
            "  warnings.warn(msg, FutureWarning)\n"
          ],
          "name": "stderr"
        },
        {
          "output_type": "execute_result",
          "data": {
            "text/plain": [
              "Text(0.5, 1.0, 'Distributin of Store Competition Distance')"
            ]
          },
          "metadata": {
            "tags": []
          },
          "execution_count": 32
        },
        {
          "output_type": "display_data",
          "data": {
            "image/png": "[encoded data removed]",
            "text/plain": [
              "<Figure size 432x288 with 1 Axes>"
            ]
          },
          "metadata": {
            "tags": [],
            "needs_background": "light"
          }
        }
      ]
    },
    {
      "cell_type": "markdown",
      "metadata": {
        "id": "SYq5HrMjs3VM"
      },
      "source": [
        "#### **The distribution is right skewed, so we'll replace missing values with the median.**"
      ]
    },
    {
      "cell_type": "code",
      "metadata": {
        "id": "NMy8F44Or0oa"
      },
      "source": [
        "# replace missing values in CompetitionDistance with median for the store dataset\n",
        "\n",
        "store_df.CompetitionDistance.fillna(store_df.CompetitionDistance.median(), inplace=True)"
      ],
      "execution_count": 33,
      "outputs": []
    },
    {
      "cell_type": "markdown",
      "metadata": {
        "id": "5U1osczttP7H"
      },
      "source": [
        "### **Merging Two Datasets**"
      ]
    },
    {
      "cell_type": "code",
      "metadata": {
        "id": "NQwC-Snzr0nA",
        "colab": {
          "base_uri": "https://localhost:8080/",
          "height": 202
        },
        "outputId": "452ae327-37ab-4283-bb69-de917a9cdedb"
      },
      "source": [
        "df = pd.merge(rossman_df, store_df, how='left', on='Store')\n",
        "df.head()"
      ],
      "execution_count": 34,
      "outputs": [
        {
          "output_type": "execute_result",
          "data": {
            "text/html": [
              "<div>\n",
              "<style scoped>\n",
              "    .dataframe tbody tr th:only-of-type {\n",
              "        vertical-align: middle;\n",
              "    }\n",
              "\n",
              "    .dataframe tbody tr th {\n",
              "        vertical-align: top;\n",
              "    }\n",
              "\n",
              "    .dataframe thead th {\n",
              "        text-align: right;\n",
              "    }\n",
              "</style>\n",
              "<table border=\"1\" class=\"dataframe\">\n",
              "  <thead>\n",
              "    <tr style=\"text-align: right;\">\n",
              "      <th></th>\n",
              "      <th>Store</th>\n",
              "      <th>DayOfWeek</th>\n",
              "      <th>Date</th>\n",
              "      <th>Sales</th>\n",
              "      <th>Customers</th>\n",
              "      <th>Open</th>\n",
              "      <th>Promo</th>\n",
              "      <th>SchoolHoliday</th>\n",
              "      <th>Year</th>\n",
              "      <th>Month</th>\n",
              "      <th>Day</th>\n",
              "      <th>WeekOfYear</th>\n",
              "      <th>StoreType</th>\n",
              "      <th>Assortment</th>\n",
              "      <th>CompetitionDistance</th>\n",
              "      <th>Promo2</th>\n",
              "    </tr>\n",
              "  </thead>\n",
              "  <tbody>\n",
              "    <tr>\n",
              "      <th>0</th>\n",
              "      <td>1</td>\n",
              "      <td>5</td>\n",
              "      <td>2015-07-31</td>\n",
              "      <td>5263</td>\n",
              "      <td>555</td>\n",
              "      <td>1</td>\n",
              "      <td>1</td>\n",
              "      <td>1</td>\n",
              "      <td>2015</td>\n",
              "      <td>7</td>\n",
              "      <td>31</td>\n",
              "      <td>31</td>\n",
              "      <td>c</td>\n",
              "      <td>a</td>\n",
              "      <td>1270.0</td>\n",
              "      <td>0</td>\n",
              "    </tr>\n",
              "    <tr>\n",
              "      <th>1</th>\n",
              "      <td>2</td>\n",
              "      <td>5</td>\n",
              "      <td>2015-07-31</td>\n",
              "      <td>6064</td>\n",
              "      <td>625</td>\n",
              "      <td>1</td>\n",
              "      <td>1</td>\n",
              "      <td>1</td>\n",
              "      <td>2015</td>\n",
              "      <td>7</td>\n",
              "      <td>31</td>\n",
              "      <td>31</td>\n",
              "      <td>a</td>\n",
              "      <td>a</td>\n",
              "      <td>570.0</td>\n",
              "      <td>1</td>\n",
              "    </tr>\n",
              "    <tr>\n",
              "      <th>2</th>\n",
              "      <td>3</td>\n",
              "      <td>5</td>\n",
              "      <td>2015-07-31</td>\n",
              "      <td>8314</td>\n",
              "      <td>821</td>\n",
              "      <td>1</td>\n",
              "      <td>1</td>\n",
              "      <td>1</td>\n",
              "      <td>2015</td>\n",
              "      <td>7</td>\n",
              "      <td>31</td>\n",
              "      <td>31</td>\n",
              "      <td>a</td>\n",
              "      <td>a</td>\n",
              "      <td>14130.0</td>\n",
              "      <td>1</td>\n",
              "    </tr>\n",
              "    <tr>\n",
              "      <th>3</th>\n",
              "      <td>4</td>\n",
              "      <td>5</td>\n",
              "      <td>2015-07-31</td>\n",
              "      <td>13995</td>\n",
              "      <td>1498</td>\n",
              "      <td>1</td>\n",
              "      <td>1</td>\n",
              "      <td>1</td>\n",
              "      <td>2015</td>\n",
              "      <td>7</td>\n",
              "      <td>31</td>\n",
              "      <td>31</td>\n",
              "      <td>c</td>\n",
              "      <td>c</td>\n",
              "      <td>620.0</td>\n",
              "      <td>0</td>\n",
              "    </tr>\n",
              "    <tr>\n",
              "      <th>4</th>\n",
              "      <td>5</td>\n",
              "      <td>5</td>\n",
              "      <td>2015-07-31</td>\n",
              "      <td>4822</td>\n",
              "      <td>559</td>\n",
              "      <td>1</td>\n",
              "      <td>1</td>\n",
              "      <td>1</td>\n",
              "      <td>2015</td>\n",
              "      <td>7</td>\n",
              "      <td>31</td>\n",
              "      <td>31</td>\n",
              "      <td>a</td>\n",
              "      <td>a</td>\n",
              "      <td>29910.0</td>\n",
              "      <td>0</td>\n",
              "    </tr>\n",
              "  </tbody>\n",
              "</table>\n",
              "</div>"
            ],
            "text/plain": [
              "   Store  DayOfWeek       Date  ...  Assortment  CompetitionDistance  Promo2\n",
              "0      1          5 2015-07-31  ...           a               1270.0       0\n",
              "1      2          5 2015-07-31  ...           a                570.0       1\n",
              "2      3          5 2015-07-31  ...           a              14130.0       1\n",
              "3      4          5 2015-07-31  ...           c                620.0       0\n",
              "4      5          5 2015-07-31  ...           a              29910.0       0\n",
              "\n",
              "[5 rows x 16 columns]"
            ]
          },
          "metadata": {
            "tags": []
          },
          "execution_count": 34
        }
      ]
    },
    {
      "cell_type": "code",
      "metadata": {
        "id": "bXKVMljsr0el",
        "colab": {
          "base_uri": "https://localhost:8080/"
        },
        "outputId": "105c7538-46d2-4f95-81d2-5da168d6ca79"
      },
      "source": [
        "df.shape"
      ],
      "execution_count": 35,
      "outputs": [
        {
          "output_type": "execute_result",
          "data": {
            "text/plain": [
              "(1017209, 16)"
            ]
          },
          "metadata": {
            "tags": []
          },
          "execution_count": 35
        }
      ]
    },
    {
      "cell_type": "markdown",
      "metadata": {
        "id": "R6983LVj23Ci"
      },
      "source": [
        "## **EDA On Merged Dataset**"
      ]
    },
    {
      "cell_type": "code",
      "metadata": {
        "id": "KKoT5O1VHpB1"
      },
      "source": [
        "df[\"Avg_Customer_Sales\"] = df.Sales/df.Customers"
      ],
      "execution_count": 36,
      "outputs": []
    },
    {
      "cell_type": "code",
      "metadata": {
        "id": "yEKPEZqaHo9A",
        "colab": {
          "base_uri": "https://localhost:8080/",
          "height": 622
        },
        "outputId": "85c2a4fa-0cb7-4060-ab70-a2749ea48f4f"
      },
      "source": [
        "f, ax = plt.subplots(2, 3, figsize = (20,10))\n",
        "\n",
        "store_df.groupby(\"StoreType\")[\"Store\"].count().plot(kind = \"bar\", ax = ax[0, 0], title = \"Total StoreTypes in the Dataset\")\n",
        "df.groupby(\"StoreType\")[\"Sales\"].sum().plot(kind = \"bar\", ax = ax[0,1], title = \"Total Sales of the StoreTypes\")\n",
        "df.groupby(\"StoreType\")[\"Customers\"].sum().plot(kind = \"bar\", ax = ax[0,2], title = \"Total nr Customers of the StoreTypes\")\n",
        "df.groupby(\"StoreType\")[\"Sales\"].mean().plot(kind = \"bar\", ax = ax[1,0], title = \"Average Sales of StoreTypes\")\n",
        "df.groupby(\"StoreType\")[\"Avg_Customer_Sales\"].mean().plot(kind = \"bar\", ax = ax[1,1], title = \"Average Spending per Customer\")\n",
        "df.groupby(\"StoreType\")[\"Customers\"].mean().plot(kind = \"bar\", ax = ax[1,2], title = \"Average Customers per StoreType\")\n",
        "\n",
        "plt.subplots_adjust(hspace = 0.3)\n",
        "plt.show()"
      ],
      "execution_count": 37,
      "outputs": [
        {
          "output_type": "display_data",
          "data": {
            "image/png": "[encoded data removed]",
            "text/plain": [
              "<Figure size 1440x720 with 6 Axes>"
            ]
          },
          "metadata": {
            "tags": [],
            "needs_background": "light"
          }
        }
      ]
    },
    {
      "cell_type": "markdown",
      "metadata": {
        "id": "Uo2VOB8uNljq"
      },
      "source": [
        "**As we can see from the graphs, the StoreType A has the most stores, sales and customers. However the StoreType D has the best averages spendings per customers. StoreType B, with only 17 stores has the most average customers.**"
      ]
    },
    {
      "cell_type": "markdown",
      "metadata": {
        "id": "Oljy_k9dN8uz"
      },
      "source": [
        "#### **Lets check the Assortments**"
      ]
    },
    {
      "cell_type": "code",
      "metadata": {
        "id": "vBbSjDjBHo3t",
        "colab": {
          "base_uri": "https://localhost:8080/",
          "height": 353
        },
        "outputId": "d6724b49-d5e0-422b-de53-55e6b5e2c86d"
      },
      "source": [
        "sns.countplot(data = df, x = \"StoreType\", hue = \"Assortment\", order=[\"a\",\"b\",\"c\",\"d\"]) \n",
        "print(\"\"\"So only the StoreType B has all assortments. I think thats why they are performing so good. Maybe this StoreType has more sales area.\n",
        "      The assortment C is a good one, because the StoreType D has the best average customer spending.\\n\\n\"\"\")\n",
        "\n",
        "plt.show()"
      ],
      "execution_count": 38,
      "outputs": [
        {
          "output_type": "stream",
          "text": [
            "So only the StoreType B has all assortments. I think thats why they are performing so good. Maybe this StoreType has more sales area.\n",
            "      The assortment C is a good one, because the StoreType D has the best average customer spending.\n",
            "\n",
            "\n"
          ],
          "name": "stdout"
        },
        {
          "output_type": "display_data",
          "data": {
            "image/png": "[encoded data removed]",
            "text/plain": [
              "<Figure size 432x288 with 1 Axes>"
            ]
          },
          "metadata": {
            "tags": [],
            "needs_background": "light"
          }
        }
      ]
    },
    {
      "cell_type": "markdown",
      "metadata": {
        "id": "1c55dSeCOGdE"
      },
      "source": [
        "#### **Lets go ahead with the promotions**"
      ]
    },
    {
      "cell_type": "code",
      "metadata": {
        "id": "576dJK2RIb8k",
        "colab": {
          "base_uri": "https://localhost:8080/",
          "height": 1000
        },
        "outputId": "8f57950a-a7af-4a4b-a36f-6b0276561fc7"
      },
      "source": [
        "sns.factorplot(data = df, x =\"Month\", y = \"Sales\", \n",
        "               col = 'Promo', # per store type in cols\n",
        "               hue = 'Promo2',\n",
        "               row = \"Year\"\n",
        "             )\n",
        "# So, of course, if the stores are having promotion the sells are higher.\n",
        "# Overall the store promotions sellings are also higher than the seasionality promotions (Promo2). However I can't see no yearly trend. "
      ],
      "execution_count": 39,
      "outputs": [
        {
          "output_type": "stream",
          "text": [
            "/usr/local/lib/python3.7/dist-packages/seaborn/categorical.py:3714: UserWarning: The `factorplot` function has been renamed to `catplot`. The original name will be removed in a future release. Please update your code. Note that the default `kind` in `factorplot` (`'point'`) has changed `'strip'` in `catplot`.\n",
            "  warnings.warn(msg)\n"
          ],
          "name": "stderr"
        },
        {
          "output_type": "execute_result",
          "data": {
            "text/plain": [
              "<seaborn.axisgrid.FacetGrid at 0x7f2379f00cd0>"
            ]
          },
          "metadata": {
            "tags": []
          },
          "execution_count": 39
        },
        {
          "output_type": "display_data",
          "data": {
            "image/png": "[encoded data removed]",
            "text/plain": [
              "<Figure size 765.75x1080 with 6 Axes>"
            ]
          },
          "metadata": {
            "tags": [],
            "needs_background": "light"
          }
        }
      ]
    },
    {
      "cell_type": "markdown",
      "metadata": {
        "id": "UYSH-upxmkni"
      },
      "source": [
        "**As We can see that when the promo is running Sales are high**"
      ]
    },
    {
      "cell_type": "code",
      "metadata": {
        "id": "_YexE3ZqIb60",
        "colab": {
          "base_uri": "https://localhost:8080/",
          "height": 458
        },
        "outputId": "57ba66bd-beaa-4a37-fbc5-808557cd2d22"
      },
      "source": [
        "sns.factorplot(data = df, x = \"DayOfWeek\", y = \"Sales\", hue = \"Promo\")"
      ],
      "execution_count": 40,
      "outputs": [
        {
          "output_type": "stream",
          "text": [
            "/usr/local/lib/python3.7/dist-packages/seaborn/categorical.py:3714: UserWarning: The `factorplot` function has been renamed to `catplot`. The original name will be removed in a future release. Please update your code. Note that the default `kind` in `factorplot` (`'point'`) has changed `'strip'` in `catplot`.\n",
            "  warnings.warn(msg)\n"
          ],
          "name": "stderr"
        },
        {
          "output_type": "execute_result",
          "data": {
            "text/plain": [
              "<seaborn.axisgrid.FacetGrid at 0x7f2378a7cad0>"
            ]
          },
          "metadata": {
            "tags": []
          },
          "execution_count": 40
        },
        {
          "output_type": "display_data",
          "data": {
            "image/png": "[encoded data removed]",
            "text/plain": [
              "<Figure size 402.375x360 with 1 Axes>"
            ]
          },
          "metadata": {
            "tags": [],
            "needs_background": "light"
          }
        }
      ]
    },
    {
      "cell_type": "code",
      "metadata": {
        "id": "vlAmkzNsIbw2",
        "colab": {
          "base_uri": "https://localhost:8080/"
        },
        "outputId": "ebeac475-5caa-49f3-f15b-26648af448e2"
      },
      "source": [
        "print(\"\"\"So, no promotion in the weekend. However, the sales are very high, if the stores have promotion. \n",
        "The Sales are going crazy on Sunday. No wonder.\"\"\")\n",
        "print(\"There are\", df[(df.Open == 1) & (df.DayOfWeek == 7)].Store.unique().shape[0], \"stores opend on sundays\")    "
      ],
      "execution_count": 41,
      "outputs": [
        {
          "output_type": "stream",
          "text": [
            "So, no promotion in the weekend. However, the sales are very high, if the stores have promotion. \n",
            "The Sales are going crazy on Sunday. No wonder.\n",
            "There are 33 stores opend on sundays\n"
          ],
          "name": "stdout"
        }
      ]
    },
    {
      "cell_type": "markdown",
      "metadata": {
        "id": "1zltERjwOWCI"
      },
      "source": [
        "**Let's see the trends on a yearly basis.**"
      ]
    },
    {
      "cell_type": "code",
      "metadata": {
        "id": "CjCWAwAtIjBK",
        "colab": {
          "base_uri": "https://localhost:8080/",
          "height": 458
        },
        "outputId": "5d7ea0f4-a8b0-4bb2-8de9-1ee7979422be"
      },
      "source": [
        "sns.factorplot(data = df, x = \"Month\", y = \"Sales\", col = \"Year\", hue = \"StoreType\")\n",
        "# Yes, we can see a seasonalities, but not trends. The sales stays constantly yearly. "
      ],
      "execution_count": 42,
      "outputs": [
        {
          "output_type": "stream",
          "text": [
            "/usr/local/lib/python3.7/dist-packages/seaborn/categorical.py:3714: UserWarning: The `factorplot` function has been renamed to `catplot`. The original name will be removed in a future release. Please update your code. Note that the default `kind` in `factorplot` (`'point'`) has changed `'strip'` in `catplot`.\n",
            "  warnings.warn(msg)\n"
          ],
          "name": "stderr"
        },
        {
          "output_type": "execute_result",
          "data": {
            "text/plain": [
              "<seaborn.axisgrid.FacetGrid at 0x7f2379c41510>"
            ]
          },
          "metadata": {
            "tags": []
          },
          "execution_count": 42
        },
        {
          "output_type": "display_data",
          "data": {
            "image/png": "[encoded data removed]",
            "text/plain": [
              "<Figure size 1136.88x360 with 3 Axes>"
            ]
          },
          "metadata": {
            "tags": [],
            "needs_background": "light"
          }
        }
      ]
    },
    {
      "cell_type": "markdown",
      "metadata": {
        "id": "6I6kWJf0OjNv"
      },
      "source": [
        "**What about the Competition Distance. What kind of inpact does this have on the sales.**"
      ]
    },
    {
      "cell_type": "code",
      "metadata": {
        "id": "LE52IuDzIi8R"
      },
      "source": [
        "df.CompetitionDistance.describe()\n",
        "# The obsverations are continous numbers, so we need to convert them into a categories. Lets a create a new variable.\n",
        "df[\"CompetitionDistance_Cat\"] = pd.cut(df[\"CompetitionDistance\"], 5)"
      ],
      "execution_count": 43,
      "outputs": []
    },
    {
      "cell_type": "code",
      "metadata": {
        "id": "WsnBsmj4Ii44",
        "colab": {
          "base_uri": "https://localhost:8080/",
          "height": 457
        },
        "outputId": "9ec00dc7-a9ff-4340-9499-3ee5c03b5b83"
      },
      "source": [
        "f, ax = plt.subplots(1,2, figsize = (15,5))\n",
        "\n",
        "df.groupby(by = \"CompetitionDistance_Cat\").Sales.mean().plot(kind = \"bar\", title = \"Average Total Sales by Competition Distance\", ax = ax[0])\n",
        "df.groupby(by = \"CompetitionDistance_Cat\").Customers.mean().plot(kind = \"bar\", title = \"Average Total Customers by Competition Distance\", ax = ax[1])\n",
        "\n",
        "# It is pretty clear. If the competions is very far away, the stores are performing better (sales and customers)"
      ],
      "execution_count": 44,
      "outputs": [
        {
          "output_type": "execute_result",
          "data": {
            "text/plain": [
              "<matplotlib.axes._subplots.AxesSubplot at 0x7f23797837d0>"
            ]
          },
          "metadata": {
            "tags": []
          },
          "execution_count": 44
        },
        {
          "output_type": "display_data",
          "data": {
            "image/png": "[encoded data removed]",
            "text/plain": [
              "<Figure size 1080x360 with 2 Axes>"
            ]
          },
          "metadata": {
            "tags": [],
            "needs_background": "light"
          }
        }
      ]
    },
    {
      "cell_type": "code",
      "metadata": {
        "id": "ifII3yEVIzZX"
      },
      "source": [
        "df.drop(['Avg_Customer_Sales','CompetitionDistance_Cat'],axis=1,inplace=True)"
      ],
      "execution_count": 45,
      "outputs": []
    },
    {
      "cell_type": "markdown",
      "metadata": {
        "id": "dhdVJRmfO2_E"
      },
      "source": [
        "# **My conclusion of the analysis:**\n",
        "\n",
        "**StoreType A has the most sells and customers.**\n",
        "\n",
        "**StoreType B has the lowest Average Sales per Customer. So i think customers visit this type only for small things.**\n",
        "\n",
        "**StoreTybe D had the highest buyer cart.**\n",
        "\n",
        "**Promo runs only in weekdays.**\n",
        "\n",
        "**Promo2 doesnt seems to be correlated to any significant change in the sales amount.**\n",
        "\n",
        "**Customers tends to buy more on Monday, when there's promotion running (Promo) and on Sundays, when there is no promotion at all.**"
      ]
    },
    {
      "cell_type": "markdown",
      "metadata": {
        "id": "0MdR35oBv2mO"
      },
      "source": [
        "### **Drop Subsets Of Data Where Might Cause Bias**"
      ]
    },
    {
      "cell_type": "code",
      "metadata": {
        "id": "Xplptpkz8yei"
      },
      "source": [
        "# where stores are closed, they won't generate sales, so we will remove that part of the dataset\n",
        "df = df[df.Open != 0]"
      ],
      "execution_count": 46,
      "outputs": []
    },
    {
      "cell_type": "code",
      "metadata": {
        "id": "b8ByPZxVv_xq"
      },
      "source": [
        "# Open isn't a variable anymore, so we'll drop it too\n",
        "df = df.drop('Open', axis=1)"
      ],
      "execution_count": 47,
      "outputs": []
    },
    {
      "cell_type": "code",
      "metadata": {
        "id": "OXGh57FQwBsL",
        "colab": {
          "base_uri": "https://localhost:8080/"
        },
        "outputId": "78a32630-bd61-4a3c-d6d3-5575031fc866"
      },
      "source": [
        "# Check if there's any opened store with zero sales\n",
        "df[df.Sales == 0]['Store'].sum()"
      ],
      "execution_count": 48,
      "outputs": [
        {
          "output_type": "execute_result",
          "data": {
            "text/plain": [
              "31460"
            ]
          },
          "metadata": {
            "tags": []
          },
          "execution_count": 48
        }
      ]
    },
    {
      "cell_type": "code",
      "metadata": {
        "id": "_PiThQJmwVfm",
        "colab": {
          "base_uri": "https://localhost:8080/"
        },
        "outputId": "49e5d14a-8fda-4b4e-c7ae-dffbc9a897df"
      },
      "source": [
        "# see the percentage of open stored with zero sales\n",
        "df[df.Sales == 0]['Sales'].sum()/df.Sales.sum()"
      ],
      "execution_count": 49,
      "outputs": [
        {
          "output_type": "execute_result",
          "data": {
            "text/plain": [
              "0.0"
            ]
          },
          "metadata": {
            "tags": []
          },
          "execution_count": 49
        }
      ]
    },
    {
      "cell_type": "code",
      "metadata": {
        "id": "L712HnmKwVbG"
      },
      "source": [
        "# remove this part of data to avoid bias\n",
        "df = df[df.Sales != 0]"
      ],
      "execution_count": 50,
      "outputs": []
    },
    {
      "cell_type": "markdown",
      "metadata": {
        "id": "7Q5_c-xs-Sa-"
      },
      "source": [
        "**Removing Outliers Of Sales**"
      ]
    },
    {
      "cell_type": "code",
      "metadata": {
        "id": "F7tvAhxK99O8"
      },
      "source": [
        "#removing outliers\n",
        "def remove_outlier(df_in, col_name):\n",
        "    q1 = df_in[col_name].quantile(0.25)\n",
        "    q3 = df_in[col_name].quantile(0.75)\n",
        "    iqr = q3-q1 #Interquartile range\n",
        "    fence_low  = q1-1.5*iqr\n",
        "    fence_high = q3+1.5*iqr\n",
        "    df_out = df_in.loc[(df_in[col_name] > fence_low) & (df_in[col_name] < fence_high)]\n",
        "    return df_out"
      ],
      "execution_count": 51,
      "outputs": []
    },
    {
      "cell_type": "code",
      "metadata": {
        "id": "2X_2HHjj-IqP"
      },
      "source": [
        "# defining new variable after removing outliers\n",
        "df= remove_outlier(df, 'Sales')"
      ],
      "execution_count": 52,
      "outputs": []
    },
    {
      "cell_type": "code",
      "metadata": {
        "id": "FP-Qu0NHLMzC",
        "colab": {
          "base_uri": "https://localhost:8080/"
        },
        "outputId": "8bf520be-ec1f-4506-8ba2-a05492a1c1d0"
      },
      "source": [
        "df.shape"
      ],
      "execution_count": 53,
      "outputs": [
        {
          "output_type": "execute_result",
          "data": {
            "text/plain": [
              "(813569, 15)"
            ]
          },
          "metadata": {
            "tags": []
          },
          "execution_count": 53
        }
      ]
    },
    {
      "cell_type": "code",
      "metadata": {
        "id": "_WU0-zx7xvbE"
      },
      "source": [
        "df_new=df.copy()"
      ],
      "execution_count": 54,
      "outputs": []
    },
    {
      "cell_type": "code",
      "metadata": {
        "id": "__KwbiepsXq4"
      },
      "source": [
        "df_new = pd.get_dummies(df_new,columns=['StoreType','Assortment','Year'])"
      ],
      "execution_count": 55,
      "outputs": []
    },
    {
      "cell_type": "code",
      "metadata": {
        "id": "ksgMOvd6w_BP",
        "colab": {
          "base_uri": "https://localhost:8080/",
          "height": 305
        },
        "outputId": "f0c0e05d-991d-47b9-d7da-98b7259bd62d"
      },
      "source": [
        "df_new.head()"
      ],
      "execution_count": 56,
      "outputs": [
        {
          "output_type": "execute_result",
          "data": {
            "text/html": [
              "<div>\n",
              "<style scoped>\n",
              "    .dataframe tbody tr th:only-of-type {\n",
              "        vertical-align: middle;\n",
              "    }\n",
              "\n",
              "    .dataframe tbody tr th {\n",
              "        vertical-align: top;\n",
              "    }\n",
              "\n",
              "    .dataframe thead th {\n",
              "        text-align: right;\n",
              "    }\n",
              "</style>\n",
              "<table border=\"1\" class=\"dataframe\">\n",
              "  <thead>\n",
              "    <tr style=\"text-align: right;\">\n",
              "      <th></th>\n",
              "      <th>Store</th>\n",
              "      <th>DayOfWeek</th>\n",
              "      <th>Date</th>\n",
              "      <th>Sales</th>\n",
              "      <th>Customers</th>\n",
              "      <th>Promo</th>\n",
              "      <th>SchoolHoliday</th>\n",
              "      <th>Month</th>\n",
              "      <th>Day</th>\n",
              "      <th>WeekOfYear</th>\n",
              "      <th>CompetitionDistance</th>\n",
              "      <th>Promo2</th>\n",
              "      <th>StoreType_a</th>\n",
              "      <th>StoreType_b</th>\n",
              "      <th>StoreType_c</th>\n",
              "      <th>StoreType_d</th>\n",
              "      <th>Assortment_a</th>\n",
              "      <th>Assortment_b</th>\n",
              "      <th>Assortment_c</th>\n",
              "      <th>Year_2013</th>\n",
              "      <th>Year_2014</th>\n",
              "      <th>Year_2015</th>\n",
              "    </tr>\n",
              "  </thead>\n",
              "  <tbody>\n",
              "    <tr>\n",
              "      <th>0</th>\n",
              "      <td>1</td>\n",
              "      <td>5</td>\n",
              "      <td>2015-07-31</td>\n",
              "      <td>5263</td>\n",
              "      <td>555</td>\n",
              "      <td>1</td>\n",
              "      <td>1</td>\n",
              "      <td>7</td>\n",
              "      <td>31</td>\n",
              "      <td>31</td>\n",
              "      <td>1270.0</td>\n",
              "      <td>0</td>\n",
              "      <td>0</td>\n",
              "      <td>0</td>\n",
              "      <td>1</td>\n",
              "      <td>0</td>\n",
              "      <td>1</td>\n",
              "      <td>0</td>\n",
              "      <td>0</td>\n",
              "      <td>0</td>\n",
              "      <td>0</td>\n",
              "      <td>1</td>\n",
              "    </tr>\n",
              "    <tr>\n",
              "      <th>1</th>\n",
              "      <td>2</td>\n",
              "      <td>5</td>\n",
              "      <td>2015-07-31</td>\n",
              "      <td>6064</td>\n",
              "      <td>625</td>\n",
              "      <td>1</td>\n",
              "      <td>1</td>\n",
              "      <td>7</td>\n",
              "      <td>31</td>\n",
              "      <td>31</td>\n",
              "      <td>570.0</td>\n",
              "      <td>1</td>\n",
              "      <td>1</td>\n",
              "      <td>0</td>\n",
              "      <td>0</td>\n",
              "      <td>0</td>\n",
              "      <td>1</td>\n",
              "      <td>0</td>\n",
              "      <td>0</td>\n",
              "      <td>0</td>\n",
              "      <td>0</td>\n",
              "      <td>1</td>\n",
              "    </tr>\n",
              "    <tr>\n",
              "      <th>2</th>\n",
              "      <td>3</td>\n",
              "      <td>5</td>\n",
              "      <td>2015-07-31</td>\n",
              "      <td>8314</td>\n",
              "      <td>821</td>\n",
              "      <td>1</td>\n",
              "      <td>1</td>\n",
              "      <td>7</td>\n",
              "      <td>31</td>\n",
              "      <td>31</td>\n",
              "      <td>14130.0</td>\n",
              "      <td>1</td>\n",
              "      <td>1</td>\n",
              "      <td>0</td>\n",
              "      <td>0</td>\n",
              "      <td>0</td>\n",
              "      <td>1</td>\n",
              "      <td>0</td>\n",
              "      <td>0</td>\n",
              "      <td>0</td>\n",
              "      <td>0</td>\n",
              "      <td>1</td>\n",
              "    </tr>\n",
              "    <tr>\n",
              "      <th>4</th>\n",
              "      <td>5</td>\n",
              "      <td>5</td>\n",
              "      <td>2015-07-31</td>\n",
              "      <td>4822</td>\n",
              "      <td>559</td>\n",
              "      <td>1</td>\n",
              "      <td>1</td>\n",
              "      <td>7</td>\n",
              "      <td>31</td>\n",
              "      <td>31</td>\n",
              "      <td>29910.0</td>\n",
              "      <td>0</td>\n",
              "      <td>1</td>\n",
              "      <td>0</td>\n",
              "      <td>0</td>\n",
              "      <td>0</td>\n",
              "      <td>1</td>\n",
              "      <td>0</td>\n",
              "      <td>0</td>\n",
              "      <td>0</td>\n",
              "      <td>0</td>\n",
              "      <td>1</td>\n",
              "    </tr>\n",
              "    <tr>\n",
              "      <th>5</th>\n",
              "      <td>6</td>\n",
              "      <td>5</td>\n",
              "      <td>2015-07-31</td>\n",
              "      <td>5651</td>\n",
              "      <td>589</td>\n",
              "      <td>1</td>\n",
              "      <td>1</td>\n",
              "      <td>7</td>\n",
              "      <td>31</td>\n",
              "      <td>31</td>\n",
              "      <td>310.0</td>\n",
              "      <td>0</td>\n",
              "      <td>1</td>\n",
              "      <td>0</td>\n",
              "      <td>0</td>\n",
              "      <td>0</td>\n",
              "      <td>1</td>\n",
              "      <td>0</td>\n",
              "      <td>0</td>\n",
              "      <td>0</td>\n",
              "      <td>0</td>\n",
              "      <td>1</td>\n",
              "    </tr>\n",
              "  </tbody>\n",
              "</table>\n",
              "</div>"
            ],
            "text/plain": [
              "   Store  DayOfWeek       Date  ...  Year_2013  Year_2014  Year_2015\n",
              "0      1          5 2015-07-31  ...          0          0          1\n",
              "1      2          5 2015-07-31  ...          0          0          1\n",
              "2      3          5 2015-07-31  ...          0          0          1\n",
              "4      5          5 2015-07-31  ...          0          0          1\n",
              "5      6          5 2015-07-31  ...          0          0          1\n",
              "\n",
              "[5 rows x 22 columns]"
            ]
          },
          "metadata": {
            "tags": []
          },
          "execution_count": 56
        }
      ]
    },
    {
      "cell_type": "markdown",
      "metadata": {
        "id": "V8nJb_IundJo"
      },
      "source": [
        "#### **Setting Features and Target Variables**"
      ]
    },
    {
      "cell_type": "code",
      "metadata": {
        "id": "xhAG-pzdwJLW"
      },
      "source": [
        "X = df_new.drop(['Sales','Store','Date'] , axis = 1)\n",
        "y= df_new.Sales"
      ],
      "execution_count": 57,
      "outputs": []
    },
    {
      "cell_type": "code",
      "metadata": {
        "colab": {
          "base_uri": "https://localhost:8080/"
        },
        "id": "umcV97SkW9l_",
        "outputId": "89f601b6-c764-4cb8-c02e-b9e260380983"
      },
      "source": [
        "X.shape"
      ],
      "execution_count": 58,
      "outputs": [
        {
          "output_type": "execute_result",
          "data": {
            "text/plain": [
              "(813569, 19)"
            ]
          },
          "metadata": {
            "tags": []
          },
          "execution_count": 58
        }
      ]
    },
    {
      "cell_type": "code",
      "metadata": {
        "colab": {
          "base_uri": "https://localhost:8080/",
          "height": 222
        },
        "id": "BNL3wQQNueAW",
        "outputId": "f3f1f063-4e65-4786-d181-7bbf04460559"
      },
      "source": [
        "X.head()"
      ],
      "execution_count": 59,
      "outputs": [
        {
          "output_type": "execute_result",
          "data": {
            "text/html": [
              "<div>\n",
              "<style scoped>\n",
              "    .dataframe tbody tr th:only-of-type {\n",
              "        vertical-align: middle;\n",
              "    }\n",
              "\n",
              "    .dataframe tbody tr th {\n",
              "        vertical-align: top;\n",
              "    }\n",
              "\n",
              "    .dataframe thead th {\n",
              "        text-align: right;\n",
              "    }\n",
              "</style>\n",
              "<table border=\"1\" class=\"dataframe\">\n",
              "  <thead>\n",
              "    <tr style=\"text-align: right;\">\n",
              "      <th></th>\n",
              "      <th>DayOfWeek</th>\n",
              "      <th>Customers</th>\n",
              "      <th>Promo</th>\n",
              "      <th>SchoolHoliday</th>\n",
              "      <th>Month</th>\n",
              "      <th>Day</th>\n",
              "      <th>WeekOfYear</th>\n",
              "      <th>CompetitionDistance</th>\n",
              "      <th>Promo2</th>\n",
              "      <th>StoreType_a</th>\n",
              "      <th>StoreType_b</th>\n",
              "      <th>StoreType_c</th>\n",
              "      <th>StoreType_d</th>\n",
              "      <th>Assortment_a</th>\n",
              "      <th>Assortment_b</th>\n",
              "      <th>Assortment_c</th>\n",
              "      <th>Year_2013</th>\n",
              "      <th>Year_2014</th>\n",
              "      <th>Year_2015</th>\n",
              "    </tr>\n",
              "  </thead>\n",
              "  <tbody>\n",
              "    <tr>\n",
              "      <th>0</th>\n",
              "      <td>5</td>\n",
              "      <td>555</td>\n",
              "      <td>1</td>\n",
              "      <td>1</td>\n",
              "      <td>7</td>\n",
              "      <td>31</td>\n",
              "      <td>31</td>\n",
              "      <td>1270.0</td>\n",
              "      <td>0</td>\n",
              "      <td>0</td>\n",
              "      <td>0</td>\n",
              "      <td>1</td>\n",
              "      <td>0</td>\n",
              "      <td>1</td>\n",
              "      <td>0</td>\n",
              "      <td>0</td>\n",
              "      <td>0</td>\n",
              "      <td>0</td>\n",
              "      <td>1</td>\n",
              "    </tr>\n",
              "    <tr>\n",
              "      <th>1</th>\n",
              "      <td>5</td>\n",
              "      <td>625</td>\n",
              "      <td>1</td>\n",
              "      <td>1</td>\n",
              "      <td>7</td>\n",
              "      <td>31</td>\n",
              "      <td>31</td>\n",
              "      <td>570.0</td>\n",
              "      <td>1</td>\n",
              "      <td>1</td>\n",
              "      <td>0</td>\n",
              "      <td>0</td>\n",
              "      <td>0</td>\n",
              "      <td>1</td>\n",
              "      <td>0</td>\n",
              "      <td>0</td>\n",
              "      <td>0</td>\n",
              "      <td>0</td>\n",
              "      <td>1</td>\n",
              "    </tr>\n",
              "    <tr>\n",
              "      <th>2</th>\n",
              "      <td>5</td>\n",
              "      <td>821</td>\n",
              "      <td>1</td>\n",
              "      <td>1</td>\n",
              "      <td>7</td>\n",
              "      <td>31</td>\n",
              "      <td>31</td>\n",
              "      <td>14130.0</td>\n",
              "      <td>1</td>\n",
              "      <td>1</td>\n",
              "      <td>0</td>\n",
              "      <td>0</td>\n",
              "      <td>0</td>\n",
              "      <td>1</td>\n",
              "      <td>0</td>\n",
              "      <td>0</td>\n",
              "      <td>0</td>\n",
              "      <td>0</td>\n",
              "      <td>1</td>\n",
              "    </tr>\n",
              "    <tr>\n",
              "      <th>4</th>\n",
              "      <td>5</td>\n",
              "      <td>559</td>\n",
              "      <td>1</td>\n",
              "      <td>1</td>\n",
              "      <td>7</td>\n",
              "      <td>31</td>\n",
              "      <td>31</td>\n",
              "      <td>29910.0</td>\n",
              "      <td>0</td>\n",
              "      <td>1</td>\n",
              "      <td>0</td>\n",
              "      <td>0</td>\n",
              "      <td>0</td>\n",
              "      <td>1</td>\n",
              "      <td>0</td>\n",
              "      <td>0</td>\n",
              "      <td>0</td>\n",
              "      <td>0</td>\n",
              "      <td>1</td>\n",
              "    </tr>\n",
              "    <tr>\n",
              "      <th>5</th>\n",
              "      <td>5</td>\n",
              "      <td>589</td>\n",
              "      <td>1</td>\n",
              "      <td>1</td>\n",
              "      <td>7</td>\n",
              "      <td>31</td>\n",
              "      <td>31</td>\n",
              "      <td>310.0</td>\n",
              "      <td>0</td>\n",
              "      <td>1</td>\n",
              "      <td>0</td>\n",
              "      <td>0</td>\n",
              "      <td>0</td>\n",
              "      <td>1</td>\n",
              "      <td>0</td>\n",
              "      <td>0</td>\n",
              "      <td>0</td>\n",
              "      <td>0</td>\n",
              "      <td>1</td>\n",
              "    </tr>\n",
              "  </tbody>\n",
              "</table>\n",
              "</div>"
            ],
            "text/plain": [
              "   DayOfWeek  Customers  Promo  ...  Year_2013  Year_2014  Year_2015\n",
              "0          5        555      1  ...          0          0          1\n",
              "1          5        625      1  ...          0          0          1\n",
              "2          5        821      1  ...          0          0          1\n",
              "4          5        559      1  ...          0          0          1\n",
              "5          5        589      1  ...          0          0          1\n",
              "\n",
              "[5 rows x 19 columns]"
            ]
          },
          "metadata": {
            "tags": []
          },
          "execution_count": 59
        }
      ]
    },
    {
      "cell_type": "code",
      "metadata": {
        "colab": {
          "base_uri": "https://localhost:8080/"
        },
        "id": "nYNCtsEJud0o",
        "outputId": "601b85f9-f158-4483-ecff-c4c5a38bb846"
      },
      "source": [
        "y.head()"
      ],
      "execution_count": 60,
      "outputs": [
        {
          "output_type": "execute_result",
          "data": {
            "text/plain": [
              "0    5263\n",
              "1    6064\n",
              "2    8314\n",
              "4    4822\n",
              "5    5651\n",
              "Name: Sales, dtype: int64"
            ]
          },
          "metadata": {
            "tags": []
          },
          "execution_count": 60
        }
      ]
    },
    {
      "cell_type": "markdown",
      "metadata": {
        "id": "HYrIuOaNn40Y"
      },
      "source": [
        "#### **Splitting Dataset Into Training Set and Test Set**"
      ]
    },
    {
      "cell_type": "code",
      "metadata": {
        "id": "CXy-MerZxSDW"
      },
      "source": [
        "X_train,X_test,y_train,y_test = train_test_split(X,y,test_size=0.2, random_state=0)"
      ],
      "execution_count": 61,
      "outputs": []
    },
    {
      "cell_type": "markdown",
      "metadata": {
        "id": "ppYUrDEj-xtD"
      },
      "source": [
        "**Scaling Data**"
      ]
    },
    {
      "cell_type": "code",
      "metadata": {
        "id": "cbxF4aYI-wyW"
      },
      "source": [
        "# Transforming data\n",
        "scaler = MinMaxScaler()\n",
        "X_train = scaler.fit_transform(X_train)\n",
        "X_test = scaler.transform(X_test)"
      ],
      "execution_count": 62,
      "outputs": []
    },
    {
      "cell_type": "markdown",
      "metadata": {
        "id": "lX7jJJ6CpBFx"
      },
      "source": [
        "## **Implementing Supervised Machine Learning algorithms.**"
      ]
    },
    {
      "cell_type": "markdown",
      "metadata": {
        "id": "jHSGn1LD9YbB"
      },
      "source": [
        "## **1.  Linear Regression (OLS)**"
      ]
    },
    {
      "cell_type": "code",
      "metadata": {
        "id": "KvuOw0P7xsH1"
      },
      "source": [
        "l= LinearRegression()\n",
        "linreg = l.fit(X_train, y_train)"
      ],
      "execution_count": 63,
      "outputs": []
    },
    {
      "cell_type": "code",
      "metadata": {
        "id": "JDG_ny4H98Ir",
        "colab": {
          "base_uri": "https://localhost:8080/"
        },
        "outputId": "4db7c79c-b7d7-408d-e8cd-c951869ca54c"
      },
      "source": [
        "def rmse(x, y):\n",
        "    return sqrt(mean_squared_error(x, y))\n",
        "\n",
        "# definte MAPE function\n",
        "def mape(x, y): \n",
        "    return np.mean(np.abs((x - y) / x)) * 100  \n",
        "\n",
        "train_score_1=linreg.score(X_train,y_train)\n",
        "test_score_1=linreg.score(X_test,y_test)\n",
        "  \n",
        "# get cross validation scores \n",
        "y_predicted = linreg.predict(X_train)\n",
        "y_test_predicted = linreg.predict(X_test)\n",
        "\n",
        "print(\"Regresion Model Score\" , \":\" , train_score_1 , \",\" ,\n",
        "      \"Test Score\" ,\":\" , test_score_1)\n",
        "print(\"Training RMSE\", \":\", rmse(y_train, y_predicted),\n",
        "      \"Testing RMSE\", \":\", rmse(y_test, y_test_predicted))\n",
        "print(\"Training MAPE\", \":\", mape(y_train, y_predicted),\n",
        "      \"Testing MAPE\", \":\", mape(y_test, y_test_predicted))"
      ],
      "execution_count": 64,
      "outputs": [
        {
          "output_type": "stream",
          "text": [
            "Regresion Model Score : 0.7812334522033653 , Test Score : 0.779587328052727\n",
            "Training RMSE : 1132.91034146477 Testing RMSE : 1134.42715685718\n",
            "Training MAPE : 14.073868516714313 Testing MAPE : 14.06457318767081\n"
          ],
          "name": "stdout"
        }
      ]
    },
    {
      "cell_type": "markdown",
      "metadata": {
        "id": "kJa21TIuxJYm"
      },
      "source": [
        "## **Inferences On Linear Regression Coefficients**"
      ]
    },
    {
      "cell_type": "code",
      "metadata": {
        "colab": {
          "base_uri": "https://localhost:8080/",
          "height": 808
        },
        "id": "pjzt1ljSuZx8",
        "outputId": "41d869bb-394e-4c3d-d1ea-1787a55a48dc"
      },
      "source": [
        "X = sm.add_constant(X) ## let's add an intercept (beta_0) to our model\n",
        "model = sm.OLS(y, X).fit() ## sm.OLS(output, input)\n",
        "predictions = model.predict(X)\n",
        "\n",
        "# Print out the statistics\n",
        "model.summary()"
      ],
      "execution_count": 65,
      "outputs": [
        {
          "output_type": "execute_result",
          "data": {
            "text/html": [
              "<table class=\"simpletable\">\n",
              "<caption>OLS Regression Results</caption>\n",
              "<tr>\n",
              "  <th>Dep. Variable:</th>          <td>Sales</td>      <th>  R-squared:         </th>  <td>   0.781</td>  \n",
              "</tr>\n",
              "<tr>\n",
              "  <th>Model:</th>                   <td>OLS</td>       <th>  Adj. R-squared:    </th>  <td>   0.781</td>  \n",
              "</tr>\n",
              "<tr>\n",
              "  <th>Method:</th>             <td>Least Squares</td>  <th>  F-statistic:       </th>  <td>1.812e+05</td> \n",
              "</tr>\n",
              "<tr>\n",
              "  <th>Date:</th>             <td>Thu, 22 Jul 2021</td> <th>  Prob (F-statistic):</th>   <td>  0.00</td>   \n",
              "</tr>\n",
              "<tr>\n",
              "  <th>Time:</th>                 <td>12:20:47</td>     <th>  Log-Likelihood:    </th> <td>-6.8761e+06</td>\n",
              "</tr>\n",
              "<tr>\n",
              "  <th>No. Observations:</th>      <td>813569</td>      <th>  AIC:               </th>  <td>1.375e+07</td> \n",
              "</tr>\n",
              "<tr>\n",
              "  <th>Df Residuals:</th>          <td>813552</td>      <th>  BIC:               </th>  <td>1.375e+07</td> \n",
              "</tr>\n",
              "<tr>\n",
              "  <th>Df Model:</th>              <td>    16</td>      <th>                     </th>      <td> </td>     \n",
              "</tr>\n",
              "<tr>\n",
              "  <th>Covariance Type:</th>      <td>nonrobust</td>    <th>                     </th>      <td> </td>     \n",
              "</tr>\n",
              "</table>\n",
              "<table class=\"simpletable\">\n",
              "<tr>\n",
              "           <td></td>              <th>coef</th>     <th>std err</th>      <th>t</th>      <th>P>|t|</th>  <th>[0.025</th>    <th>0.975]</th>  \n",
              "</tr>\n",
              "<tr>\n",
              "  <th>const</th>               <td> -812.8697</td> <td>    4.639</td> <td> -175.212</td> <td> 0.000</td> <td> -821.963</td> <td> -803.777</td>\n",
              "</tr>\n",
              "<tr>\n",
              "  <th>DayOfWeek</th>           <td>  -19.2984</td> <td>    0.773</td> <td>  -24.972</td> <td> 0.000</td> <td>  -20.813</td> <td>  -17.784</td>\n",
              "</tr>\n",
              "<tr>\n",
              "  <th>Customers</th>           <td>    7.1968</td> <td>    0.005</td> <td> 1463.752</td> <td> 0.000</td> <td>    7.187</td> <td>    7.206</td>\n",
              "</tr>\n",
              "<tr>\n",
              "  <th>Promo</th>               <td> 1077.8837</td> <td>    2.724</td> <td>  395.712</td> <td> 0.000</td> <td> 1072.545</td> <td> 1083.222</td>\n",
              "</tr>\n",
              "<tr>\n",
              "  <th>SchoolHoliday</th>       <td>   30.5036</td> <td>    3.275</td> <td>    9.314</td> <td> 0.000</td> <td>   24.085</td> <td>   36.922</td>\n",
              "</tr>\n",
              "<tr>\n",
              "  <th>Month</th>               <td>   46.8145</td> <td>    1.416</td> <td>   33.061</td> <td> 0.000</td> <td>   44.039</td> <td>   49.590</td>\n",
              "</tr>\n",
              "<tr>\n",
              "  <th>Day</th>                 <td>    1.0451</td> <td>    0.149</td> <td>    6.993</td> <td> 0.000</td> <td>    0.752</td> <td>    1.338</td>\n",
              "</tr>\n",
              "<tr>\n",
              "  <th>WeekOfYear</th>          <td>   -3.9753</td> <td>    0.324</td> <td>  -12.251</td> <td> 0.000</td> <td>   -4.611</td> <td>   -3.339</td>\n",
              "</tr>\n",
              "<tr>\n",
              "  <th>CompetitionDistance</th> <td>    0.0237</td> <td>    0.000</td> <td>  141.198</td> <td> 0.000</td> <td>    0.023</td> <td>    0.024</td>\n",
              "</tr>\n",
              "<tr>\n",
              "  <th>Promo2</th>              <td>  306.8308</td> <td>    2.621</td> <td>  117.086</td> <td> 0.000</td> <td>  301.695</td> <td>  311.967</td>\n",
              "</tr>\n",
              "<tr>\n",
              "  <th>StoreType_a</th>         <td>   99.5690</td> <td>    4.665</td> <td>   21.343</td> <td> 0.000</td> <td>   90.425</td> <td>  108.713</td>\n",
              "</tr>\n",
              "<tr>\n",
              "  <th>StoreType_b</th>         <td>-2055.2760</td> <td>   12.619</td> <td> -162.868</td> <td> 0.000</td> <td>-2080.009</td> <td>-2030.543</td>\n",
              "</tr>\n",
              "<tr>\n",
              "  <th>StoreType_c</th>         <td>  -48.0882</td> <td>    5.180</td> <td>   -9.284</td> <td> 0.000</td> <td>  -58.241</td> <td>  -37.936</td>\n",
              "</tr>\n",
              "<tr>\n",
              "  <th>StoreType_d</th>         <td> 1190.9255</td> <td>    4.920</td> <td>  242.057</td> <td> 0.000</td> <td> 1181.282</td> <td> 1200.569</td>\n",
              "</tr>\n",
              "<tr>\n",
              "  <th>Assortment_a</th>        <td> 1157.8897</td> <td>    6.513</td> <td>  177.791</td> <td> 0.000</td> <td> 1145.125</td> <td> 1170.654</td>\n",
              "</tr>\n",
              "<tr>\n",
              "  <th>Assortment_b</th>        <td>-3414.7269</td> <td>   15.091</td> <td> -226.269</td> <td> 0.000</td> <td>-3444.306</td> <td>-3385.148</td>\n",
              "</tr>\n",
              "<tr>\n",
              "  <th>Assortment_c</th>        <td> 1443.9675</td> <td>    6.687</td> <td>  215.951</td> <td> 0.000</td> <td> 1430.862</td> <td> 1457.073</td>\n",
              "</tr>\n",
              "<tr>\n",
              "  <th>Year_2013</th>           <td> -422.5765</td> <td>    2.370</td> <td> -178.283</td> <td> 0.000</td> <td> -427.222</td> <td> -417.931</td>\n",
              "</tr>\n",
              "<tr>\n",
              "  <th>Year_2014</th>           <td> -316.4998</td> <td>    2.387</td> <td> -132.619</td> <td> 0.000</td> <td> -321.177</td> <td> -311.822</td>\n",
              "</tr>\n",
              "<tr>\n",
              "  <th>Year_2015</th>           <td>  -73.7934</td> <td>    2.546</td> <td>  -28.983</td> <td> 0.000</td> <td>  -78.784</td> <td>  -68.803</td>\n",
              "</tr>\n",
              "</table>\n",
              "<table class=\"simpletable\">\n",
              "<tr>\n",
              "  <th>Omnibus:</th>       <td>46000.593</td> <th>  Durbin-Watson:     </th>  <td>   1.743</td> \n",
              "</tr>\n",
              "<tr>\n",
              "  <th>Prob(Omnibus):</th>  <td> 0.000</td>   <th>  Jarque-Bera (JB):  </th> <td>137460.835</td>\n",
              "</tr>\n",
              "<tr>\n",
              "  <th>Skew:</th>           <td> 0.273</td>   <th>  Prob(JB):          </th>  <td>    0.00</td> \n",
              "</tr>\n",
              "<tr>\n",
              "  <th>Kurtosis:</th>       <td> 4.938</td>   <th>  Cond. No.          </th>  <td>6.40e+19</td> \n",
              "</tr>\n",
              "</table><br/><br/>Warnings:<br/>[1] Standard Errors assume that the covariance matrix of the errors is correctly specified.<br/>[2] The smallest eigenvalue is 1.82e-26. This might indicate that there are<br/>strong multicollinearity problems or that the design matrix is singular."
            ],
            "text/plain": [
              "<class 'statsmodels.iolib.summary.Summary'>\n",
              "\"\"\"\n",
              "                            OLS Regression Results                            \n",
              "==============================================================================\n",
              "Dep. Variable:                  Sales   R-squared:                       0.781\n",
              "Model:                            OLS   Adj. R-squared:                  0.781\n",
              "Method:                 Least Squares   F-statistic:                 1.812e+05\n",
              "Date:                Thu, 22 Jul 2021   Prob (F-statistic):               0.00\n",
              "Time:                        12:20:47   Log-Likelihood:            -6.8761e+06\n",
              "No. Observations:              813569   AIC:                         1.375e+07\n",
              "Df Residuals:                  813552   BIC:                         1.375e+07\n",
              "Df Model:                          16                                         \n",
              "Covariance Type:            nonrobust                                         \n",
              "=======================================================================================\n",
              "                          coef    std err          t      P>|t|      [0.025      0.975]\n",
              "---------------------------------------------------------------------------------------\n",
              "const                -812.8697      4.639   -175.212      0.000    -821.963    -803.777\n",
              "DayOfWeek             -19.2984      0.773    -24.972      0.000     -20.813     -17.784\n",
              "Customers               7.1968      0.005   1463.752      0.000       7.187       7.206\n",
              "Promo                1077.8837      2.724    395.712      0.000    1072.545    1083.222\n",
              "SchoolHoliday          30.5036      3.275      9.314      0.000      24.085      36.922\n",
              "Month                  46.8145      1.416     33.061      0.000      44.039      49.590\n",
              "Day                     1.0451      0.149      6.993      0.000       0.752       1.338\n",
              "WeekOfYear             -3.9753      0.324    -12.251      0.000      -4.611      -3.339\n",
              "CompetitionDistance     0.0237      0.000    141.198      0.000       0.023       0.024\n",
              "Promo2                306.8308      2.621    117.086      0.000     301.695     311.967\n",
              "StoreType_a            99.5690      4.665     21.343      0.000      90.425     108.713\n",
              "StoreType_b         -2055.2760     12.619   -162.868      0.000   -2080.009   -2030.543\n",
              "StoreType_c           -48.0882      5.180     -9.284      0.000     -58.241     -37.936\n",
              "StoreType_d          1190.9255      4.920    242.057      0.000    1181.282    1200.569\n",
              "Assortment_a         1157.8897      6.513    177.791      0.000    1145.125    1170.654\n",
              "Assortment_b        -3414.7269     15.091   -226.269      0.000   -3444.306   -3385.148\n",
              "Assortment_c         1443.9675      6.687    215.951      0.000    1430.862    1457.073\n",
              "Year_2013            -422.5765      2.370   -178.283      0.000    -427.222    -417.931\n",
              "Year_2014            -316.4998      2.387   -132.619      0.000    -321.177    -311.822\n",
              "Year_2015             -73.7934      2.546    -28.983      0.000     -78.784     -68.803\n",
              "==============================================================================\n",
              "Omnibus:                    46000.593   Durbin-Watson:                   1.743\n",
              "Prob(Omnibus):                  0.000   Jarque-Bera (JB):           137460.835\n",
              "Skew:                           0.273   Prob(JB):                         0.00\n",
              "Kurtosis:                       4.938   Cond. No.                     6.40e+19\n",
              "==============================================================================\n",
              "\n",
              "Warnings:\n",
              "[1] Standard Errors assume that the covariance matrix of the errors is correctly specified.\n",
              "[2] The smallest eigenvalue is 1.82e-26. This might indicate that there are\n",
              "strong multicollinearity problems or that the design matrix is singular.\n",
              "\"\"\""
            ]
          },
          "metadata": {
            "tags": []
          },
          "execution_count": 65
        }
      ]
    },
    {
      "cell_type": "markdown",
      "metadata": {
        "id": "IlbX32T7CpdK"
      },
      "source": [
        "## **2. Bayesian Ridge Regression**"
      ]
    },
    {
      "cell_type": "code",
      "metadata": {
        "id": "zZ0KyCiKCo8m"
      },
      "source": [
        "rdg = BayesianRidge()\n",
        "rdgreg = rdg.fit(X_train, y_train)"
      ],
      "execution_count": 66,
      "outputs": []
    },
    {
      "cell_type": "code",
      "metadata": {
        "id": "CBKoFxfTCKer",
        "colab": {
          "base_uri": "https://localhost:8080/"
        },
        "outputId": "fb353253-46f8-43f9-c5d7-51eb6f66d177"
      },
      "source": [
        "# validation\n",
        "\n",
        "y_predicted = rdgreg.predict(X_train)\n",
        "y_test_predicted = rdgreg.predict(X_test)\n",
        "\n",
        "train_score_2=rdgreg.score(X_train,y_train)\n",
        "test_score_2=rdgreg.score(X_test,y_test)\n",
        "\n",
        "print(\"Regresion Model Score\" , \":\" , train_score_2 , \",\" ,\n",
        "      \"Test Score\" ,\":\" , test_score_2)\n",
        "\n",
        "print(\"Training RMSE\", \":\", rmse(y_train, y_predicted),\n",
        "      \"Testing RMSE\", \":\", rmse(y_test, y_test_predicted))\n",
        "print(\"Training MAPE\", \":\", mape(y_train, y_predicted),\n",
        "      \"Testing MAPE\", \":\", mape(y_test, y_test_predicted))"
      ],
      "execution_count": 67,
      "outputs": [
        {
          "output_type": "stream",
          "text": [
            "Regresion Model Score : 0.7812334521528748 , Test Score : 0.7795873646457037\n",
            "Training RMSE : 1132.9103415955058 Testing RMSE : 1134.427062688211\n",
            "Training MAPE : 14.073906298850755 Testing MAPE : 14.064609878871007\n"
          ],
          "name": "stdout"
        }
      ]
    },
    {
      "cell_type": "markdown",
      "metadata": {
        "id": "kb4z--nJEwhA"
      },
      "source": [
        "## **3. LARS Lasso Regression**"
      ]
    },
    {
      "cell_type": "code",
      "metadata": {
        "id": "EtwkzqqbEQHk"
      },
      "source": [
        "las = LassoLars(alpha=0.3, fit_intercept=False, normalize=True)\n",
        "lasreg = las.fit(X_train, y_train)\n"
      ],
      "execution_count": 68,
      "outputs": []
    },
    {
      "cell_type": "code",
      "metadata": {
        "id": "0_ZEV101E2u3",
        "colab": {
          "base_uri": "https://localhost:8080/"
        },
        "outputId": "af39fafc-d705-4ef8-f413-697d170db553"
      },
      "source": [
        "train_score_3=lasreg.score(X_train,y_train)\n",
        "test_score_3=lasreg.score(X_test,y_test)\n",
        "\n",
        "print(\"Regresion Model Score\" , \":\" , train_score_3 , \",\" ,\n",
        "      \"Out of Sample Test Score\" ,\":\" , test_score_3)\n",
        "\n",
        "y_predicted = lasreg.predict(X_train)\n",
        "y_test_predicted = lasreg.predict(X_test)\n",
        "\n",
        "print(\"Training RMSE\", \":\", rmse(y_train, y_predicted),\n",
        "      \"Testing RMSE\", \":\", rmse(y_test, y_test_predicted))\n",
        "print(\"Training MAPE\", \":\", mape(y_train, y_predicted),\n",
        "      \"Testing MAPE\", \":\", mape(y_test, y_test_predicted))"
      ],
      "execution_count": 69,
      "outputs": [
        {
          "output_type": "stream",
          "text": [
            "Regresion Model Score : 0.7812140542242966 , Out of Sample Test Score : 0.7795847935188313\n",
            "Training RMSE : 1132.9605678000528 Testing RMSE : 1134.4336792494505\n",
            "Training MAPE : 14.078787793730635 Testing MAPE : 14.0696423765067\n"
          ],
          "name": "stdout"
        }
      ]
    },
    {
      "cell_type": "markdown",
      "metadata": {
        "id": "LONPxJUIFNzc"
      },
      "source": [
        "## **4. Decision Tree Regression**"
      ]
    },
    {
      "cell_type": "code",
      "metadata": {
        "id": "5n80jPxrFISD"
      },
      "source": [
        "tree = DecisionTreeRegressor()\n",
        "treereg = tree.fit(X_train, y_train)"
      ],
      "execution_count": 70,
      "outputs": []
    },
    {
      "cell_type": "code",
      "metadata": {
        "id": "qJH-A0M8FWoP",
        "colab": {
          "base_uri": "https://localhost:8080/"
        },
        "outputId": "7f6cf56b-b4af-415f-e6fc-ceab52aee79d"
      },
      "source": [
        "train_score_4=treereg.score(X_train,y_train)\n",
        "test_score_4=treereg.score(X_test,y_test)\n",
        "\n",
        "print(\"Regresion Model Score\" , \":\" , train_score_4 , \",\" ,\n",
        "      \"Test Score\" ,\":\" , test_score_4)\n",
        "\n",
        "y_predicted = treereg.predict(X_train)\n",
        "y_test_predicted = treereg.predict(X_test)\n",
        "print(\"Training RMSE\", \":\", rmse(y_train, y_predicted),\n",
        "      \"Testing RMSE\", \":\", rmse(y_test, y_test_predicted))\n",
        "print(\"Training MAPE\", \":\", mape(y_train, y_predicted),\n",
        "      \"Testing MAPE\", \":\", mape(y_test, y_test_predicted))"
      ],
      "execution_count": 71,
      "outputs": [
        {
          "output_type": "stream",
          "text": [
            "Regresion Model Score : 0.9999939002940547 , Test Score : 0.916789512402661\n",
            "Training RMSE : 5.9821807901094255 Testing RMSE : 697.0234161609789\n",
            "Training MAPE : 0.001276285382845472 Testing MAPE : 7.4455282325748255\n"
          ],
          "name": "stdout"
        }
      ]
    },
    {
      "cell_type": "markdown",
      "metadata": {
        "id": "_u1ygc0qodPQ"
      },
      "source": [
        " **I trained Model with hyper parameters..to not run everytime i record the result**\n",
        "\n",
        "**Here are our best parameters for Decision Tree**\n",
        "\n",
        "**{ min_samples_split=5,min_samples_leaf=8 }**"
      ]
    },
    {
      "cell_type": "code",
      "metadata": {
        "id": "6_dZplMJpGZU"
      },
      "source": [
        "# #another script that takes toooo long, to find the right parameters for tree\n",
        "# tree = DecisionTreeRegressor()\n",
        "\n",
        "# params = {\n",
        "#          'min_samples_split':[2,3,5,7],\n",
        "#          'min_samples_leaf':[6,8,10],\n",
        "#          }\n",
        "\n",
        "# grid = RandomizedSearchCV(estimator=rfr,param_distributions=params,verbose=True,cv=10)\n",
        "# #choosing 10 K-Folds makes sure i went through all of the data and didn't miss any pattern.\n",
        "\n",
        "# grid.fit(X_train, y_train)\n",
        "# grid.best_params_"
      ],
      "execution_count": 72,
      "outputs": []
    },
    {
      "cell_type": "code",
      "metadata": {
        "id": "9i7J_T_XfrZI"
      },
      "source": [
        "tree = DecisionTreeRegressor(min_samples_leaf=8,min_samples_split=5)\n",
        "treereg = tree.fit(X_train, y_train)"
      ],
      "execution_count": 73,
      "outputs": []
    },
    {
      "cell_type": "code",
      "metadata": {
        "colab": {
          "base_uri": "https://localhost:8080/"
        },
        "id": "Gz0BkZCHpAJ7",
        "outputId": "114b0b70-fadc-4c2d-d61a-0b4708ca8bd3"
      },
      "source": [
        "train_score_5=treereg.score(X_train,y_train)\n",
        "test_score_5=treereg.score(X_test,y_test)\n",
        "\n",
        "print(\"Regresion Model Score\" , \":\" , train_score_5 , \",\" ,\n",
        "      \"Test Score\" ,\":\" , test_score_5)\n",
        "\n",
        "y_predicted = treereg.predict(X_train)\n",
        "y_test_predicted = treereg.predict(X_test)\n",
        "print(\"Training RMSE\", \":\", rmse(y_train, y_predicted),\n",
        "      \"Testing RMSE\", \":\", rmse(y_test, y_test_predicted))\n",
        "print(\"Training MAPE\", \":\", mape(y_train, y_predicted),\n",
        "      \"Testing MAPE\", \":\", mape(y_test, y_test_predicted))"
      ],
      "execution_count": 74,
      "outputs": [
        {
          "output_type": "stream",
          "text": [
            "Regresion Model Score : 0.9644980686002083 , Test Score : 0.9350191969949775\n",
            "Training RMSE : 456.384697964669 Testing RMSE : 615.9576760200392\n",
            "Training MAPE : 4.900927610594186 Testing MAPE : 6.602106832953999\n"
          ],
          "name": "stdout"
        }
      ]
    },
    {
      "cell_type": "markdown",
      "metadata": {
        "id": "KH7pHiYMnf60"
      },
      "source": [
        "### **5. Random Forest With Hyper Parameter Tuning**"
      ]
    },
    {
      "cell_type": "code",
      "metadata": {
        "id": "J6LucnyFg2HC"
      },
      "source": [
        "# #another script that takes toooo long, to find the right parameters for RFR\n",
        "# rfr=RandomForestRegressor(n_jobs=-1)\n",
        "\n",
        "# params = {\n",
        "#          'n_estimators':[40,50,60,70,80,90],\n",
        "#          'min_samples_split':[2,3,6,8],\n",
        "#          'min_samples_leaf':[1,2,3,4],\n",
        "#          'max_depth':[None,5,15,30]\n",
        "#          }\n",
        "\n",
        "# #the dimensionality is high, the number of combinations we have to search is enormous, using RandomizedSearchCV is a better option then GridSearchCV\n",
        "# grid = RandomizedSearchCV(estimator=rfr,param_distributions=params,verbose=True,cv=10)\n",
        "\n",
        "# #choosing 10 K-Folds makes sure i went through all of the data and didn't miss any pattern.\n",
        "# grid.fit(X_train, y_train)\n",
        "# grid.best_params_"
      ],
      "execution_count": 75,
      "outputs": []
    },
    {
      "cell_type": "markdown",
      "metadata": {
        "id": "yetSDKqYlgnP"
      },
      "source": [
        " **I trained Model with hyper parameters..to not run everytime i record the result**\n",
        "\n",
        "**Here are our best parameters for Random Forest**\n",
        "\n",
        "**{ n_estimators=80,min_samples_split=2,min_samples_leaf=1,max_depth=None }**"
      ]
    },
    {
      "cell_type": "code",
      "metadata": {
        "id": "ROcb64LDFld9"
      },
      "source": [
        "rdf = RandomForestRegressor(n_estimators=80,min_samples_split=2, min_samples_leaf=1,max_depth=None,n_jobs=-1)\n",
        "rdfreg = rdf.fit(X_train, y_train)"
      ],
      "execution_count": 76,
      "outputs": []
    },
    {
      "cell_type": "code",
      "metadata": {
        "id": "IfjW3mb8GMWu",
        "colab": {
          "base_uri": "https://localhost:8080/"
        },
        "outputId": "8b14bee7-06f0-4446-a454-2251c4ca9b81"
      },
      "source": [
        "train_score_6=rdfreg.score(X_train,y_train)\n",
        "test_score_6=rdfreg.score(X_test,y_test)\n",
        "\n",
        "print(\"Regresion Model Score\" , \":\" , train_score_6 , \",\" ,\n",
        "      \"Test Score\" ,\":\" , test_score_6)\n",
        "\n",
        "y_predicted_2 = rdfreg.predict(X_train)\n",
        "y_test_predicted_2 = rdfreg.predict(X_test)\n",
        "\n",
        "print(\"Training RMSE\", \":\", rmse(y_train, y_predicted_2),\n",
        "      \"Testing RMSE\", \":\", rmse(y_test, y_test_predicted_2))\n",
        "print(\"Training MAPE\", \":\", mape(y_train, y_predicted_2),\n",
        "      \"Testing MAPE\", \":\", mape(y_test, y_test_predicted_2))"
      ],
      "execution_count": 77,
      "outputs": [
        {
          "output_type": "stream",
          "text": [
            "Regresion Model Score : 0.9941705481889598 , Test Score : 0.958626766967703\n",
            "Training RMSE : 184.93492804512076 Testing RMSE : 491.4938234514781\n",
            "Training MAPE : 2.0175727412993476 Testing MAPE : 5.404580340703629\n"
          ],
          "name": "stdout"
        }
      ]
    },
    {
      "cell_type": "markdown",
      "metadata": {
        "id": "cOUgK1a7G8gx"
      },
      "source": [
        "## **6. K-Nearest Neighbors Regression**"
      ]
    },
    {
      "cell_type": "code",
      "metadata": {
        "id": "ckBlcgPMG958"
      },
      "source": [
        "# from sklearn.neighbors import KNeighborsRegressor\n",
        "# knn = KNeighborsRegressor(n_neighbors = 30)\n",
        "# knnreg = knn.fit(X_train, y_train)"
      ],
      "execution_count": 78,
      "outputs": []
    },
    {
      "cell_type": "code",
      "metadata": {
        "id": "hnC4QKDjHEii"
      },
      "source": [
        "# train_score_7=knnreg.score(X_train,y_train)\n",
        "# test_score_7=knnreg.score(X_test,y_test)\n",
        "\n",
        "# print(\"Regresion Model Score\" , \":\" , train_score_7 , \",\" ,\n",
        "#       \"Test Score\" ,\":\" , test_score_7)\n",
        "\n",
        "# y_predicted = knnreg.predict(X_train)\n",
        "# y_test_predicted = knnreg.predict(X_test)\n",
        "\n",
        "# print(\"Training RMSE\", \":\", rmse(y_train, y_predicted),\n",
        "#       \"Testing RMSE\", \":\", rmse(y_test, y_test_predicted))\n",
        "# print(\"Training MAPE\", \":\", mape(y_train, y_predicted),\n",
        "#       \"Testing MAPE\", \":\", mape(y_test, y_test_predicted))"
      ],
      "execution_count": 79,
      "outputs": []
    },
    {
      "cell_type": "markdown",
      "metadata": {
        "id": "xIBTDl2cHwxF"
      },
      "source": [
        "**KNN Takes Time to Run so I record Training Score = 90.56 and testing score = 87.23**"
      ]
    },
    {
      "cell_type": "markdown",
      "metadata": {
        "id": "6k00qibk0Z3H"
      },
      "source": [
        "## **Feature Importance On Random Forest Regressor**\n",
        "\n",
        "As we can see that Random Forest has the highest test score"
      ]
    },
    {
      "cell_type": "code",
      "metadata": {
        "id": "XBvrbmQ9ylt2"
      },
      "source": [
        "def plot_feature_importance(importance,names,model_type):\n",
        "\n",
        "  #Create arrays from feature importance and feature names\n",
        "  feature_importance = np.array(importance)\n",
        "  feature_names = np.array(names)\n",
        "\n",
        "  #Create a DataFrame using a Dictionary\n",
        "  data={'feature_names':feature_names,'feature_importance':feature_importance}\n",
        "  fi_df = pd.DataFrame(data)\n",
        "\n",
        "  #Sort the DataFrame in order decreasing feature importance\n",
        "  fi_df.sort_values(by=['feature_importance'], ascending=False,inplace=True)\n",
        "\n",
        "  #Define size of bar plot\n",
        "  plt.figure(figsize=(10,8))\n",
        "  #Plot Searborn bar chart\n",
        "  sns.barplot(x=fi_df['feature_importance'], y=fi_df['feature_names'])\n",
        "  #Add chart labels\n",
        "  plt.title(model_type + ' FEATURE IMPORTANCE')\n",
        "  plt.xlabel('FEATURE IMPORTANCE')\n",
        "  plt.ylabel('FEATURE NAMES')"
      ],
      "execution_count": 80,
      "outputs": []
    },
    {
      "cell_type": "code",
      "metadata": {
        "id": "Z6iH2Yq5MDjE",
        "outputId": "f7b3c1d0-5b3a-4138-fb1f-faf3958e7e82",
        "colab": {
          "base_uri": "https://localhost:8080/"
        }
      },
      "source": [
        "X.columns"
      ],
      "execution_count": 84,
      "outputs": [
        {
          "output_type": "execute_result",
          "data": {
            "text/plain": [
              "Index(['const', 'DayOfWeek', 'Customers', 'Promo', 'SchoolHoliday', 'Month',\n",
              "       'Day', 'WeekOfYear', 'CompetitionDistance', 'Promo2', 'StoreType_a',\n",
              "       'StoreType_b', 'StoreType_c', 'StoreType_d', 'Assortment_a',\n",
              "       'Assortment_b', 'Assortment_c', 'Year_2013', 'Year_2014', 'Year_2015'],\n",
              "      dtype='object')"
            ]
          },
          "metadata": {
            "tags": []
          },
          "execution_count": 84
        }
      ]
    },
    {
      "cell_type": "code",
      "metadata": {
        "colab": {
          "base_uri": "https://localhost:8080/",
          "height": 516
        },
        "id": "0anwmMKOylsC",
        "outputId": "21e2a0ab-a4d5-4a41-fcb1-4e76f351e895"
      },
      "source": [
        "plot_feature_importance(rdfreg.feature_importances_,X.columns[1:],'RANDOM FOREST')"
      ],
      "execution_count": 85,
      "outputs": [
        {
          "output_type": "display_data",
          "data": {
            "image/png": "[encoded data removed]",
            "text/plain": [
              "<Figure size 720x576 with 1 Axes>"
            ]
          },
          "metadata": {
            "tags": [],
            "needs_background": "light"
          }
        }
      ]
    },
    {
      "cell_type": "markdown",
      "metadata": {
        "id": "1oG3iBUg02pz"
      },
      "source": [
        "**Customers, CompetitionDistance, StoreType_d, Promo these four are most important features in our sales prediction.**"
      ]
    },
    {
      "cell_type": "code",
      "metadata": {
        "id": "ndowz3JbIIrU"
      },
      "source": [
        "score_df = pd.DataFrame({'Train_Score':[train_score_1,train_score_2,train_score_3,train_score_4,train_score_5,train_score_6],'Test_Score':[test_score_1,test_score_2,test_score_3,test_score_4,test_score_5,test_score_6]},index=['Linear Regression','Bayesian Ridge Regression','Lasso Regression','Decision Tree',\"Decision Tree(hyperparameters)\",'Random Forest Regression'])"
      ],
      "execution_count": 86,
      "outputs": []
    },
    {
      "cell_type": "markdown",
      "metadata": {
        "id": "X5mI9H4zItRh"
      },
      "source": [
        "#**Conclusion**"
      ]
    },
    {
      "cell_type": "code",
      "metadata": {
        "id": "vN0brrOFIsf5",
        "outputId": "b2a3ccad-81d5-40a3-f9bc-0d2f522c5c9b",
        "colab": {
          "base_uri": "https://localhost:8080/",
          "height": 232
        }
      },
      "source": [
        "score_df"
      ],
      "execution_count": 87,
      "outputs": [
        {
          "output_type": "execute_result",
          "data": {
            "text/html": [
              "<div>\n",
              "<style scoped>\n",
              "    .dataframe tbody tr th:only-of-type {\n",
              "        vertical-align: middle;\n",
              "    }\n",
              "\n",
              "    .dataframe tbody tr th {\n",
              "        vertical-align: top;\n",
              "    }\n",
              "\n",
              "    .dataframe thead th {\n",
              "        text-align: right;\n",
              "    }\n",
              "</style>\n",
              "<table border=\"1\" class=\"dataframe\">\n",
              "  <thead>\n",
              "    <tr style=\"text-align: right;\">\n",
              "      <th></th>\n",
              "      <th>Train_Score</th>\n",
              "      <th>Test_Score</th>\n",
              "    </tr>\n",
              "  </thead>\n",
              "  <tbody>\n",
              "    <tr>\n",
              "      <th>Linear Regression</th>\n",
              "      <td>0.781233</td>\n",
              "      <td>0.779587</td>\n",
              "    </tr>\n",
              "    <tr>\n",
              "      <th>Bayesian Ridge Regression</th>\n",
              "      <td>0.781233</td>\n",
              "      <td>0.779587</td>\n",
              "    </tr>\n",
              "    <tr>\n",
              "      <th>Lasso Regression</th>\n",
              "      <td>0.781214</td>\n",
              "      <td>0.779585</td>\n",
              "    </tr>\n",
              "    <tr>\n",
              "      <th>Decision Tree</th>\n",
              "      <td>0.999994</td>\n",
              "      <td>0.916790</td>\n",
              "    </tr>\n",
              "    <tr>\n",
              "      <th>Decision Tree(hyperparameters)</th>\n",
              "      <td>0.964498</td>\n",
              "      <td>0.935019</td>\n",
              "    </tr>\n",
              "    <tr>\n",
              "      <th>Random Forest Regression</th>\n",
              "      <td>0.994171</td>\n",
              "      <td>0.958627</td>\n",
              "    </tr>\n",
              "  </tbody>\n",
              "</table>\n",
              "</div>"
            ],
            "text/plain": [
              "                                Train_Score  Test_Score\n",
              "Linear Regression                  0.781233    0.779587\n",
              "Bayesian Ridge Regression          0.781233    0.779587\n",
              "Lasso Regression                   0.781214    0.779585\n",
              "Decision Tree                      0.999994    0.916790\n",
              "Decision Tree(hyperparameters)     0.964498    0.935019\n",
              "Random Forest Regression           0.994171    0.958627"
            ]
          },
          "metadata": {
            "tags": []
          },
          "execution_count": 87
        }
      ]
    },
    {
      "cell_type": "markdown",
      "metadata": {
        "id": "TAmlrTg_I7ky"
      },
      "source": [
        "**As We Can See that Random forest has Highest Training Score and Highest Testing Score so Random Forest is the Best Model For this Dataset.**"
      ]
    },
    {
      "cell_type": "markdown",
      "metadata": {
        "id": "A9kHw9zVI_F0"
      },
      "source": [
        "# **Future Work**\n",
        "\n",
        "**With advancements of Deep learning, to further improve the performance on the given dataset, LSTM might be good point to start.**\n",
        "\n",
        "**Some other ensemble techniques can be used to check if they can improve the result.**"
      ]
    }
  ]
}